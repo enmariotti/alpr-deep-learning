{
 "cells": [
  {
   "cell_type": "markdown",
   "metadata": {},
   "source": [
    "# Pipeline (YOLOv3 + CRAFT + CRNN) Metrics"
   ]
  },
  {
   "cell_type": "code",
   "execution_count": 1,
   "metadata": {},
   "outputs": [],
   "source": [
    "import os\n",
    "import sys\n",
    "import cv2\n",
    "import time\n",
    "import pickle as pkl\n",
    "import textdistance as td\n",
    "import xml.etree.ElementTree as ET"
   ]
  },
  {
   "cell_type": "code",
   "execution_count": 2,
   "metadata": {},
   "outputs": [],
   "source": [
    "import numpy as np\n",
    "from itertools import zip_longest"
   ]
  },
  {
   "cell_type": "code",
   "execution_count": 4,
   "metadata": {},
   "outputs": [],
   "source": [
    "from IPython.display import Image\n",
    "import matplotlib.pyplot as plt\n",
    "plt.rcParams[\"figure.figsize\"] = (15,15)"
   ]
  },
  {
   "cell_type": "code",
   "execution_count": 5,
   "metadata": {},
   "outputs": [
    {
     "name": "stderr",
     "output_type": "stream",
     "text": [
      "Using TensorFlow backend.\n"
     ]
    }
   ],
   "source": [
    "from src.Pipeline import Pipeline\n",
    "import src.Metrics as metrics\n",
    "import src.CraftTools as crafttools\n",
    "import src.YOLOBbox as yolobbox\n",
    "%load_ext autoreload\n",
    "%autoreload 2"
   ]
  },
  {
   "cell_type": "code",
   "execution_count": null,
   "metadata": {},
   "outputs": [],
   "source": [
    "Image(filename='doc/text-distance-table.png') "
   ]
  },
  {
   "cell_type": "markdown",
   "metadata": {},
   "source": [
    "## MERCOSUR (EU Format) Normal"
   ]
  },
  {
   "cell_type": "markdown",
   "metadata": {},
   "source": [
    "### 1. Dataset & annotations"
   ]
  },
  {
   "cell_type": "code",
   "execution_count": 6,
   "metadata": {},
   "outputs": [],
   "source": [
    "image_dir = 'dev/mercosur/normal/'\n",
    "annot_dir='dev/mercosur_annotations/normal/'"
   ]
  },
  {
   "cell_type": "code",
   "execution_count": 7,
   "metadata": {},
   "outputs": [],
   "source": [
    "files_path = [os.path.join(image_dir, f) for f in os.listdir(image_dir) if os.path.isfile(os.path.join(image_dir, f))]\n",
    "files_path.sort()\n",
    "annot_path = [os.path.join(annot_dir, f) for f in os.listdir(annot_dir) if os.path.isfile(os.path.join(annot_dir, f))]\n",
    "annot_path.sort()"
   ]
  },
  {
   "cell_type": "code",
   "execution_count": 8,
   "metadata": {
    "scrolled": true
   },
   "outputs": [
    {
     "data": {
      "text/plain": [
       "45"
      ]
     },
     "execution_count": 8,
     "metadata": {},
     "output_type": "execute_result"
    }
   ],
   "source": [
    "len(files_path)"
   ]
  },
  {
   "cell_type": "markdown",
   "metadata": {},
   "source": [
    "### 2. Pipeline"
   ]
  },
  {
   "cell_type": "code",
   "execution_count": 9,
   "metadata": {},
   "outputs": [
    {
     "name": "stdout",
     "output_type": "stream",
     "text": [
      "Creating pipeline...\n",
      "Pipeline created in: 18.499117612838745 seconds\n",
      "\n"
     ]
    }
   ],
   "source": [
    "np.random.seed(14)\n",
    "print('Creating pipeline...')\n",
    "start_time = time.time()\n",
    "pipeline = Pipeline()\n",
    "end_time = time.time()\n",
    "print('Pipeline created in: {} seconds\\n'.format(end_time-start_time))"
   ]
  },
  {
   "cell_type": "markdown",
   "metadata": {},
   "source": [
    "### 3. Predictions"
   ]
  },
  {
   "cell_type": "code",
   "execution_count": 10,
   "metadata": {
    "scrolled": true
   },
   "outputs": [
    {
     "name": "stdout",
     "output_type": "stream",
     "text": [
      "Performing predictions on: dev/mercosur/normal/1.jpg\n",
      "Total prediction time: 5.70780873298645 seconds\n",
      "Printing outputs and text predictions...\n",
      "Predictions: [['aa', '388', 'jg']]\n",
      "Performing predictions on: dev/mercosur/normal/10.jpg\n",
      "Total prediction time: 1.957826852798462 seconds\n",
      "Printing outputs and text predictions...\n",
      "Predictions: [['aa', '205', 'no']]\n",
      "Performing predictions on: dev/mercosur/normal/11.jpg\n",
      "Total prediction time: 1.9593100547790527 seconds\n",
      "Printing outputs and text predictions...\n",
      "Predictions: [['ad', '448', 'ob']]\n",
      "Performing predictions on: dev/mercosur/normal/12.jpg\n",
      "Total prediction time: 4.270873308181763 seconds\n",
      "Printing outputs and text predictions...\n",
      "Predictions: [['ad', '812', 'mv']]\n",
      "Performing predictions on: dev/mercosur/normal/13.jpg\n",
      "Total prediction time: 0.5753638744354248 seconds\n",
      "Printing outputs and text predictions...\n",
      "Predictions: [['']]\n",
      "Performing predictions on: dev/mercosur/normal/14.jpg\n",
      "Total prediction time: 2.725527286529541 seconds\n",
      "Printing outputs and text predictions...\n",
      "Predictions: [['nc', '371', 'le'], ['ac', '371', 'le']]\n",
      "Performing predictions on: dev/mercosur/normal/15.jpg\n",
      "Total prediction time: 0.5621373653411865 seconds\n",
      "Printing outputs and text predictions...\n",
      "Predictions: [['']]\n",
      "Performing predictions on: dev/mercosur/normal/16.jpg\n",
      "Total prediction time: 1.812422752380371 seconds\n",
      "Printing outputs and text predictions...\n",
      "Predictions: [['ad', '537', 'ei']]\n",
      "Performing predictions on: dev/mercosur/normal/17.jpg\n",
      "Total prediction time: 2.688854217529297 seconds\n",
      "Printing outputs and text predictions...\n",
      "Predictions: [['aa', '624', 'vj']]\n",
      "Performing predictions on: dev/mercosur/normal/18.jpg\n",
      "Total prediction time: 2.813981771469116 seconds\n",
      "Printing outputs and text predictions...\n",
      "Predictions: [['aa', '624', 'vj']]\n",
      "Performing predictions on: dev/mercosur/normal/19.jpg\n",
      "Total prediction time: 2.278371572494507 seconds\n",
      "Printing outputs and text predictions...\n",
      "Predictions: [['aa', '205', 'nx']]\n",
      "Performing predictions on: dev/mercosur/normal/2.jpg\n",
      "Total prediction time: 1.7306666374206543 seconds\n",
      "Printing outputs and text predictions...\n",
      "Predictions: [['aa', 'oog', 'aa']]\n",
      "Performing predictions on: dev/mercosur/normal/20.jpg\n",
      "Total prediction time: 1.53487229347229 seconds\n",
      "Printing outputs and text predictions...\n",
      "Predictions: [['aa', '015', 'cr']]\n",
      "Performing predictions on: dev/mercosur/normal/21.jpg\n",
      "Total prediction time: 2.4363138675689697 seconds\n",
      "Printing outputs and text predictions...\n",
      "Predictions: [['ab', '372', 'jn']]\n",
      "Performing predictions on: dev/mercosur/normal/22.jpg\n",
      "Total prediction time: 3.5588467121124268 seconds\n",
      "Printing outputs and text predictions...\n",
      "Predictions: [['177', 'ey']]\n",
      "Performing predictions on: dev/mercosur/normal/23.jpg\n",
      "Total prediction time: 1.470970630645752 seconds\n",
      "Printing outputs and text predictions...\n",
      "Predictions: [['aa', '78', 'an']]\n",
      "Performing predictions on: dev/mercosur/normal/24.jpg\n",
      "Total prediction time: 3.4162511825561523 seconds\n",
      "Printing outputs and text predictions...\n",
      "Predictions: [['ab', '801', 'kg']]\n",
      "Performing predictions on: dev/mercosur/normal/25.jpg\n",
      "Total prediction time: 2.4368228912353516 seconds\n",
      "Printing outputs and text predictions...\n",
      "Predictions: [['ad', '581', 'gr']]\n",
      "Performing predictions on: dev/mercosur/normal/26.jpg\n",
      "Total prediction time: 3.2519235610961914 seconds\n",
      "Printing outputs and text predictions...\n",
      "Predictions: [['aa228', 'sm']]\n",
      "Performing predictions on: dev/mercosur/normal/27.jpg\n",
      "Total prediction time: 0.5491621494293213 seconds\n",
      "Printing outputs and text predictions...\n",
      "Predictions: [['']]\n",
      "Performing predictions on: dev/mercosur/normal/28.jpg\n",
      "Total prediction time: 2.3514404296875 seconds\n",
      "Printing outputs and text predictions...\n",
      "Predictions: [['ad', '550', 'og']]\n",
      "Performing predictions on: dev/mercosur/normal/29.jpg\n",
      "Total prediction time: 0.687694787979126 seconds\n",
      "Printing outputs and text predictions...\n",
      "Predictions: [['']]\n",
      "Performing predictions on: dev/mercosur/normal/3.jpg\n",
      "Total prediction time: 1.3225655555725098 seconds\n",
      "Printing outputs and text predictions...\n",
      "Predictions: [['aa', '018', 'xi']]\n",
      "Performing predictions on: dev/mercosur/normal/30.jpg\n",
      "Total prediction time: 2.699732542037964 seconds\n",
      "Printing outputs and text predictions...\n",
      "Predictions: [['aa', '695', 'wb']]\n",
      "Performing predictions on: dev/mercosur/normal/31.jpg\n",
      "Total prediction time: 1.8826773166656494 seconds\n",
      "Printing outputs and text predictions...\n",
      "Predictions: [['ab', '311', 'ku']]\n",
      "Performing predictions on: dev/mercosur/normal/32.jpg\n",
      "Total prediction time: 1.6489322185516357 seconds\n",
      "Printing outputs and text predictions...\n",
      "Predictions: [['ab', '356', 'zy']]\n",
      "Performing predictions on: dev/mercosur/normal/33.jpg\n",
      "Total prediction time: 2.0902884006500244 seconds\n",
      "Printing outputs and text predictions...\n",
      "Predictions: [['aa', '583', 'sj']]\n",
      "Performing predictions on: dev/mercosur/normal/34.jpg\n",
      "Total prediction time: 2.08790922164917 seconds\n",
      "Printing outputs and text predictions...\n",
      "Predictions: [['cc', '050', 'ty']]\n",
      "Performing predictions on: dev/mercosur/normal/35.jpg\n",
      "Total prediction time: 0.6056685447692871 seconds\n",
      "Printing outputs and text predictions...\n",
      "Predictions: [['']]\n",
      "Performing predictions on: dev/mercosur/normal/36.jpg\n",
      "Total prediction time: 2.068509578704834 seconds\n",
      "Printing outputs and text predictions...\n",
      "Predictions: [['ad', '126', 'ye']]\n",
      "Performing predictions on: dev/mercosur/normal/37.jpg\n",
      "Total prediction time: 2.491389036178589 seconds\n",
      "Printing outputs and text predictions...\n",
      "Predictions: [['ab', '775', 'nq']]\n",
      "Performing predictions on: dev/mercosur/normal/38.jpg\n",
      "Total prediction time: 1.8436188697814941 seconds\n",
      "Printing outputs and text predictions...\n",
      "Predictions: [['ad', '283', 's0']]\n",
      "Performing predictions on: dev/mercosur/normal/40.jpg\n",
      "Total prediction time: 2.5421981811523438 seconds\n",
      "Printing outputs and text predictions...\n",
      "Predictions: [['ae', '121', 'dd']]\n",
      "Performing predictions on: dev/mercosur/normal/41.jpg\n",
      "Total prediction time: 2.154714345932007 seconds\n",
      "Printing outputs and text predictions...\n",
      "Predictions: [['ac', '345', 'xg']]\n",
      "Performing predictions on: dev/mercosur/normal/42.jpg\n",
      "Total prediction time: 2.0533957481384277 seconds\n",
      "Printing outputs and text predictions...\n",
      "Predictions: [['nr', '7r6', 'oz']]\n",
      "Performing predictions on: dev/mercosur/normal/43.jpg\n",
      "Total prediction time: 2.2010438442230225 seconds\n",
      "Printing outputs and text predictions...\n",
      "Predictions: [['ad', '277', 'yc']]\n",
      "Performing predictions on: dev/mercosur/normal/44.jpg\n",
      "Total prediction time: 3.3519678115844727 seconds\n",
      "Printing outputs and text predictions...\n",
      "Predictions: [['183', 's7']]\n",
      "Performing predictions on: dev/mercosur/normal/45.jpg\n",
      "Total prediction time: 2.353850841522217 seconds\n",
      "Printing outputs and text predictions...\n",
      "Predictions: [['aa', '071', 'fu']]\n",
      "Performing predictions on: dev/mercosur/normal/46.jpg\n",
      "Total prediction time: 3.41524338722229 seconds\n",
      "Printing outputs and text predictions...\n",
      "Predictions: [['laa', '411hj']]\n",
      "Performing predictions on: dev/mercosur/normal/5.jpg\n",
      "Total prediction time: 2.4378349781036377 seconds\n",
      "Printing outputs and text predictions...\n",
      "Predictions: [['mercedesrenz', 'ab', 'ootls']]\n",
      "Performing predictions on: dev/mercosur/normal/50.jpg\n",
      "Total prediction time: 2.180450677871704 seconds\n",
      "Printing outputs and text predictions...\n",
      "Predictions: [['ad', '121', 'ok']]\n",
      "Performing predictions on: dev/mercosur/normal/6.jpg\n",
      "Total prediction time: 2.3570048809051514 seconds\n",
      "Printing outputs and text predictions...\n",
      "Predictions: [['aa', '778', 'aq']]\n",
      "Performing predictions on: dev/mercosur/normal/7.jpg\n",
      "Total prediction time: 0.5885601043701172 seconds\n",
      "Printing outputs and text predictions...\n",
      "Predictions: [['']]\n",
      "Performing predictions on: dev/mercosur/normal/8.jpg\n",
      "Total prediction time: 1.7718608379364014 seconds\n",
      "Printing outputs and text predictions...\n",
      "Predictions: [['aa', '205', 'nd']]\n",
      "Performing predictions on: dev/mercosur/normal/9.jpg\n",
      "Total prediction time: 2.1498537063598633 seconds\n",
      "Printing outputs and text predictions...\n",
      "Predictions: [['ha', '215', 'no']]\n"
     ]
    }
   ],
   "source": [
    "lp_predictions = []\n",
    "for file in files_path:\n",
    "    print('Performing predictions on: {}'.format(file))\n",
    "    start_time = time.time()\n",
    "    lp_boxes, txt_pred = pipeline.image([file], syntax_analyzer=True)\n",
    "    end_time = time.time()\n",
    "    print('Total prediction time: {} seconds'.format(end_time-start_time))\n",
    "    print('Printing outputs and text predictions...')\n",
    "    # # Bounding Boxes\n",
    "    for boxes, txt in zip(lp_boxes, txt_pred):\n",
    "#         output = yolobbox.draw_boxes(cv2.imread(file), boxes, ['licence_plate'])\n",
    "#         plt.imshow(cv2.cvtColor(output, cv2.COLOR_BGR2RGB))\n",
    "#         plt.axis('off')\n",
    "#         plt.show()\n",
    "        print('Predictions: {}'.format(txt))\n",
    "        lp_predictions.append(txt) "
   ]
  },
  {
   "cell_type": "code",
   "execution_count": 11,
   "metadata": {},
   "outputs": [
    {
     "data": {
      "text/plain": [
       "[[['aa', '388', 'jg']],\n",
       " [['aa', '205', 'no']],\n",
       " [['ad', '448', 'ob']],\n",
       " [['ad', '812', 'mv']],\n",
       " [['']],\n",
       " [['nc', '371', 'le'], ['ac', '371', 'le']],\n",
       " [['']],\n",
       " [['ad', '537', 'ei']],\n",
       " [['aa', '624', 'vj']],\n",
       " [['aa', '624', 'vj']],\n",
       " [['aa', '205', 'nx']],\n",
       " [['aa', 'oog', 'aa']],\n",
       " [['aa', '015', 'cr']],\n",
       " [['ab', '372', 'jn']],\n",
       " [['177', 'ey']],\n",
       " [['aa', '78', 'an']],\n",
       " [['ab', '801', 'kg']],\n",
       " [['ad', '581', 'gr']],\n",
       " [['aa228', 'sm']],\n",
       " [['']],\n",
       " [['ad', '550', 'og']],\n",
       " [['']],\n",
       " [['aa', '018', 'xi']],\n",
       " [['aa', '695', 'wb']],\n",
       " [['ab', '311', 'ku']],\n",
       " [['ab', '356', 'zy']],\n",
       " [['aa', '583', 'sj']],\n",
       " [['cc', '050', 'ty']],\n",
       " [['']],\n",
       " [['ad', '126', 'ye']],\n",
       " [['ab', '775', 'nq']],\n",
       " [['ad', '283', 's0']],\n",
       " [['ae', '121', 'dd']],\n",
       " [['ac', '345', 'xg']],\n",
       " [['nr', '7r6', 'oz']],\n",
       " [['ad', '277', 'yc']],\n",
       " [['183', 's7']],\n",
       " [['aa', '071', 'fu']],\n",
       " [['laa', '411hj']],\n",
       " [['mercedesrenz', 'ab', 'ootls']],\n",
       " [['ad', '121', 'ok']],\n",
       " [['aa', '778', 'aq']],\n",
       " [['']],\n",
       " [['aa', '205', 'nd']],\n",
       " [['ha', '215', 'no']]]"
      ]
     },
     "execution_count": 11,
     "metadata": {},
     "output_type": "execute_result"
    }
   ],
   "source": [
    "lp_predictions"
   ]
  },
  {
   "cell_type": "code",
   "execution_count": 12,
   "metadata": {},
   "outputs": [],
   "source": [
    "normal = []\n",
    "for image in lp_predictions:\n",
    "    image_lps = []\n",
    "    for lp in image:\n",
    "        lp_text = ''.join(lp)\n",
    "        image_lps.append(lp_text.upper())\n",
    "    normal.append(image_lps)"
   ]
  },
  {
   "cell_type": "code",
   "execution_count": 13,
   "metadata": {},
   "outputs": [
    {
     "data": {
      "text/plain": [
       "[['AA388JG'],\n",
       " ['AA205NO'],\n",
       " ['AD448OB'],\n",
       " ['AD812MV'],\n",
       " [''],\n",
       " ['NC371LE', 'AC371LE'],\n",
       " [''],\n",
       " ['AD537EI'],\n",
       " ['AA624VJ'],\n",
       " ['AA624VJ'],\n",
       " ['AA205NX'],\n",
       " ['AAOOGAA'],\n",
       " ['AA015CR'],\n",
       " ['AB372JN'],\n",
       " ['177EY'],\n",
       " ['AA78AN'],\n",
       " ['AB801KG'],\n",
       " ['AD581GR'],\n",
       " ['AA228SM'],\n",
       " [''],\n",
       " ['AD550OG'],\n",
       " [''],\n",
       " ['AA018XI'],\n",
       " ['AA695WB'],\n",
       " ['AB311KU'],\n",
       " ['AB356ZY'],\n",
       " ['AA583SJ'],\n",
       " ['CC050TY'],\n",
       " [''],\n",
       " ['AD126YE'],\n",
       " ['AB775NQ'],\n",
       " ['AD283S0'],\n",
       " ['AE121DD'],\n",
       " ['AC345XG'],\n",
       " ['NR7R6OZ'],\n",
       " ['AD277YC'],\n",
       " ['183S7'],\n",
       " ['AA071FU'],\n",
       " ['LAA411HJ'],\n",
       " ['MERCEDESRENZABOOTLS'],\n",
       " ['AD121OK'],\n",
       " ['AA778AQ'],\n",
       " [''],\n",
       " ['AA205ND'],\n",
       " ['HA215NO']]"
      ]
     },
     "execution_count": 13,
     "metadata": {},
     "output_type": "execute_result"
    }
   ],
   "source": [
    "normal"
   ]
  },
  {
   "cell_type": "code",
   "execution_count": 14,
   "metadata": {
    "scrolled": true
   },
   "outputs": [],
   "source": [
    "with open('dev/metrics/normal.data', 'wb') as file:  \n",
    "    pkl.dump(normal, file)"
   ]
  },
  {
   "cell_type": "markdown",
   "metadata": {},
   "source": [
    "### 4. Get GT"
   ]
  },
  {
   "cell_type": "code",
   "execution_count": 14,
   "metadata": {},
   "outputs": [],
   "source": [
    "gt = []\n",
    "for file in annot_path:\n",
    "    tree = ET.parse(file)\n",
    "    root = tree.getroot()\n",
    "    lp_text = []\n",
    "    for lp in root.iter('object'):\n",
    "        lp_text.append(lp.find('text').text)\n",
    "    gt.append(lp_text)"
   ]
  },
  {
   "cell_type": "code",
   "execution_count": 15,
   "metadata": {},
   "outputs": [
    {
     "data": {
      "text/plain": [
       "[['AA388JG'],\n",
       " ['AA205NO'],\n",
       " ['AD448OB'],\n",
       " ['AD812MV'],\n",
       " ['AD507QJ'],\n",
       " ['AC371LE'],\n",
       " ['AA924TF'],\n",
       " ['AD537EI'],\n",
       " ['AA624VJ'],\n",
       " ['AA624VJ'],\n",
       " ['AA205NX'],\n",
       " ['AA000AA'],\n",
       " ['AA015CR'],\n",
       " ['AB372JN'],\n",
       " ['AD537EY'],\n",
       " ['AA778AN'],\n",
       " ['AB801KG'],\n",
       " ['AD581GR'],\n",
       " ['AA228SM'],\n",
       " ['AA091JH'],\n",
       " ['AD550OG'],\n",
       " ['AC552XB'],\n",
       " ['AA018XI'],\n",
       " ['AA695WB'],\n",
       " ['AB371KU'],\n",
       " ['AB356ZY'],\n",
       " ['AA583SJ'],\n",
       " ['AC630IY'],\n",
       " ['AE197ZL'],\n",
       " ['AD126YE'],\n",
       " ['AB775NQ'],\n",
       " ['AD283SO'],\n",
       " ['AE129DD'],\n",
       " ['AC345XG'],\n",
       " ['AC256OZ'],\n",
       " ['AD277YC'],\n",
       " ['AA483SZ'],\n",
       " ['AA079FU'],\n",
       " ['AA411HJ'],\n",
       " ['AB661LS'],\n",
       " ['AD431QK'],\n",
       " ['AA778AQ', 'AA736KL'],\n",
       " ['AA736KL'],\n",
       " ['AA205NO'],\n",
       " ['AA205NO']]"
      ]
     },
     "execution_count": 15,
     "metadata": {},
     "output_type": "execute_result"
    }
   ],
   "source": [
    "gt"
   ]
  },
  {
   "cell_type": "code",
   "execution_count": 17,
   "metadata": {},
   "outputs": [],
   "source": [
    "with open('dev/metrics/gt.data', 'wb') as file:  \n",
    "    pkl.dump(gt, file)"
   ]
  },
  {
   "cell_type": "markdown",
   "metadata": {},
   "source": [
    "### 5. Metrics (Normal)"
   ]
  },
  {
   "cell_type": "code",
   "execution_count": 16,
   "metadata": {},
   "outputs": [
    {
     "name": "stdout",
     "output_type": "stream",
     "text": [
      "[('AA388JG', 'AA388JG')]\n",
      "[('AA205NO', 'AA205NO')]\n",
      "[('AD448OB', 'AD448OB')]\n",
      "[('AD812MV', 'AD812MV')]\n",
      "[('AD507QJ', '')]\n",
      "[('AC371LE', 'NC371LE'), ('AC371LE', 'AC371LE')]\n",
      "[('AA924TF', '')]\n",
      "[('AD537EI', 'AD537EI')]\n",
      "[('AA624VJ', 'AA624VJ')]\n",
      "[('AA624VJ', 'AA624VJ')]\n",
      "[('AA205NX', 'AA205NX')]\n",
      "[('AA000AA', 'AAOOGAA')]\n",
      "[('AA015CR', 'AA015CR')]\n",
      "[('AB372JN', 'AB372JN')]\n",
      "[('AD537EY', '177EY')]\n",
      "[('AA778AN', 'AA78AN')]\n",
      "[('AB801KG', 'AB801KG')]\n",
      "[('AD581GR', 'AD581GR')]\n",
      "[('AA228SM', 'AA228SM')]\n",
      "[('AA091JH', '')]\n",
      "[('AD550OG', 'AD550OG')]\n",
      "[('AC552XB', '')]\n",
      "[('AA018XI', 'AA018XI')]\n",
      "[('AA695WB', 'AA695WB')]\n",
      "[('AB371KU', 'AB311KU')]\n",
      "[('AB356ZY', 'AB356ZY')]\n",
      "[('AA583SJ', 'AA583SJ')]\n",
      "[('AC630IY', 'CC050TY')]\n",
      "[('AE197ZL', '')]\n",
      "[('AD126YE', 'AD126YE')]\n",
      "[('AB775NQ', 'AB775NQ')]\n",
      "[('AD283SO', 'AD283S0')]\n",
      "[('AE129DD', 'AE121DD')]\n",
      "[('AC345XG', 'AC345XG')]\n",
      "[('AC256OZ', 'NR7R6OZ')]\n",
      "[('AD277YC', 'AD277YC')]\n",
      "[('AA483SZ', '183S7')]\n",
      "[('AA079FU', 'AA071FU')]\n",
      "[('AA411HJ', 'LAA411HJ')]\n",
      "[('AB661LS', 'MERCEDESRENZABOOTLS')]\n",
      "[('AD431QK', 'AD121OK')]\n",
      "[('AA778AQ', 'AA778AQ'), ('AA736KL', 'AA778AQ')]\n",
      "[('AA736KL', '')]\n",
      "[('AA205NO', 'AA205ND')]\n",
      "[('AA205NO', 'HA215NO')]\n",
      "TP: 24.0\n",
      "FP: 16.0\n",
      "FN: 22.0\n",
      "Accuracy: 0.3870967741935484\n",
      "Precision: 0.6\n",
      "Recall: 0.5217391304347826\n",
      "\n",
      "\n",
      "LS_FP_FN: 0.46492652084757347\n"
     ]
    }
   ],
   "source": [
    "metrics.evaluate(ground_truth=gt, predictions=normal)"
   ]
  }
 ],
 "metadata": {
  "kernelspec": {
   "display_name": "Python 3",
   "language": "python",
   "name": "python3"
  },
  "language_info": {
   "codemirror_mode": {
    "name": "ipython",
    "version": 3
   },
   "file_extension": ".py",
   "mimetype": "text/x-python",
   "name": "python",
   "nbconvert_exporter": "python",
   "pygments_lexer": "ipython3",
   "version": "3.7.3"
  }
 },
 "nbformat": 4,
 "nbformat_minor": 2
}
