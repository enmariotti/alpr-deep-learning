{
 "cells": [
  {
   "cell_type": "markdown",
   "metadata": {},
   "source": [
    "# Pipeline (YOLOv3 + CRAFT + CRNN) Metrics"
   ]
  },
  {
   "cell_type": "code",
   "execution_count": 1,
   "metadata": {},
   "outputs": [],
   "source": [
    "import os\n",
    "import sys\n",
    "import cv2\n",
    "import time\n",
    "import pickle as pkl\n",
    "import textdistance as td\n",
    "import xml.etree.ElementTree as ET"
   ]
  },
  {
   "cell_type": "code",
   "execution_count": 2,
   "metadata": {},
   "outputs": [],
   "source": [
    "import numpy as np\n",
    "from itertools import zip_longest"
   ]
  },
  {
   "cell_type": "code",
   "execution_count": 4,
   "metadata": {},
   "outputs": [],
   "source": [
    "from IPython.display import Image\n",
    "import matplotlib.pyplot as plt\n",
    "plt.rcParams[\"figure.figsize\"] = (15,15)"
   ]
  },
  {
   "cell_type": "code",
   "execution_count": 5,
   "metadata": {},
   "outputs": [
    {
     "name": "stderr",
     "output_type": "stream",
     "text": [
      "Using TensorFlow backend.\n"
     ]
    }
   ],
   "source": [
    "from src.Pipeline import Pipeline\n",
    "import src.Metrics as metrics\n",
    "import src.CraftTools as crafttools\n",
    "import src.YOLOBbox as yolobbox\n",
    "%load_ext autoreload\n",
    "%autoreload 2"
   ]
  },
  {
   "cell_type": "code",
   "execution_count": null,
   "metadata": {},
   "outputs": [],
   "source": [
    "Image(filename='doc/text-distance-table.png') "
   ]
  },
  {
   "cell_type": "markdown",
   "metadata": {},
   "source": [
    "## MERCOSUR (EU Format) Sunny"
   ]
  },
  {
   "cell_type": "markdown",
   "metadata": {},
   "source": [
    "### 1. Dataset & annotations"
   ]
  },
  {
   "cell_type": "code",
   "execution_count": 6,
   "metadata": {},
   "outputs": [],
   "source": [
    "image_dir = 'dev/mercosur/sunny/'\n",
    "annot_dir='dev/mercosur_annotations/sunny/'"
   ]
  },
  {
   "cell_type": "code",
   "execution_count": 7,
   "metadata": {},
   "outputs": [],
   "source": [
    "files_path = [os.path.join(image_dir, f) for f in os.listdir(image_dir) if os.path.isfile(os.path.join(image_dir, f))]\n",
    "files_path.sort()\n",
    "annot_path = [os.path.join(annot_dir, f) for f in os.listdir(annot_dir) if os.path.isfile(os.path.join(annot_dir, f))]\n",
    "annot_path.sort()"
   ]
  },
  {
   "cell_type": "code",
   "execution_count": 8,
   "metadata": {
    "scrolled": true
   },
   "outputs": [
    {
     "data": {
      "text/plain": [
       "45"
      ]
     },
     "execution_count": 8,
     "metadata": {},
     "output_type": "execute_result"
    }
   ],
   "source": [
    "len(files_path)"
   ]
  },
  {
   "cell_type": "markdown",
   "metadata": {},
   "source": [
    "### 2. Pipeline"
   ]
  },
  {
   "cell_type": "code",
   "execution_count": 9,
   "metadata": {},
   "outputs": [
    {
     "name": "stdout",
     "output_type": "stream",
     "text": [
      "Creating pipeline...\n",
      "Pipeline created in: 18.52548360824585 seconds\n",
      "\n"
     ]
    }
   ],
   "source": [
    "np.random.seed(14)\n",
    "print('Creating pipeline...')\n",
    "start_time = time.time()\n",
    "pipeline = Pipeline()\n",
    "end_time = time.time()\n",
    "print('Pipeline created in: {} seconds\\n'.format(end_time-start_time))"
   ]
  },
  {
   "cell_type": "markdown",
   "metadata": {},
   "source": [
    "### 3. Predictions"
   ]
  },
  {
   "cell_type": "code",
   "execution_count": 10,
   "metadata": {
    "scrolled": true
   },
   "outputs": [
    {
     "name": "stdout",
     "output_type": "stream",
     "text": [
      "Performing predictions on: dev/mercosur/sunny/sunny_1.jpg\n",
      "Total prediction time: 5.835859060287476 seconds\n",
      "Printing outputs and text predictions...\n",
      "Predictions: [['aa', '388', 'jg']]\n",
      "Performing predictions on: dev/mercosur/sunny/sunny_10.jpg\n",
      "Total prediction time: 0.6235153675079346 seconds\n",
      "Printing outputs and text predictions...\n",
      "Predictions: [['']]\n",
      "Performing predictions on: dev/mercosur/sunny/sunny_11.jpg\n",
      "Total prediction time: 1.9655492305755615 seconds\n",
      "Printing outputs and text predictions...\n",
      "Predictions: [['ad', '448', 'ob']]\n",
      "Performing predictions on: dev/mercosur/sunny/sunny_12.jpg\n",
      "Total prediction time: 3.965050220489502 seconds\n",
      "Printing outputs and text predictions...\n",
      "Predictions: [['ad', '812', 'mv']]\n",
      "Performing predictions on: dev/mercosur/sunny/sunny_13.jpg\n",
      "Total prediction time: 1.8350796699523926 seconds\n",
      "Printing outputs and text predictions...\n",
      "Predictions: [['d', '507', 'qj']]\n",
      "Performing predictions on: dev/mercosur/sunny/sunny_14.jpg\n",
      "Total prediction time: 1.4548628330230713 seconds\n",
      "Printing outputs and text predictions...\n",
      "Predictions: [['ac', '371', 'le']]\n",
      "Performing predictions on: dev/mercosur/sunny/sunny_15.jpg\n",
      "Total prediction time: 0.6000823974609375 seconds\n",
      "Printing outputs and text predictions...\n",
      "Predictions: [['']]\n",
      "Performing predictions on: dev/mercosur/sunny/sunny_16.jpg\n",
      "Total prediction time: 0.5132668018341064 seconds\n",
      "Printing outputs and text predictions...\n",
      "Predictions: [['']]\n",
      "Performing predictions on: dev/mercosur/sunny/sunny_17.jpg\n",
      "Total prediction time: 2.640716314315796 seconds\n",
      "Printing outputs and text predictions...\n",
      "Predictions: [['aa', '624', 'vj']]\n",
      "Performing predictions on: dev/mercosur/sunny/sunny_18.jpg\n",
      "Total prediction time: 2.374983072280884 seconds\n",
      "Printing outputs and text predictions...\n",
      "Predictions: [['aa', '624', 'vj']]\n",
      "Performing predictions on: dev/mercosur/sunny/sunny_19.jpg\n",
      "Total prediction time: 2.0825703144073486 seconds\n",
      "Printing outputs and text predictions...\n",
      "Predictions: [['aa', '205', 'nx']]\n",
      "Performing predictions on: dev/mercosur/sunny/sunny_2.jpg\n",
      "Total prediction time: 1.7401809692382812 seconds\n",
      "Printing outputs and text predictions...\n",
      "Predictions: [['aa', 'ooo', 'aa']]\n",
      "Performing predictions on: dev/mercosur/sunny/sunny_20.jpg\n",
      "Total prediction time: 0.11948871612548828 seconds\n",
      "Printing outputs and text predictions...\n",
      "Predictions: [['']]\n",
      "Performing predictions on: dev/mercosur/sunny/sunny_21.jpg\n",
      "Total prediction time: 2.460024118423462 seconds\n",
      "Printing outputs and text predictions...\n",
      "Predictions: [['ab', '372', 'jn']]\n",
      "Performing predictions on: dev/mercosur/sunny/sunny_22.jpg\n",
      "Total prediction time: 3.465365171432495 seconds\n",
      "Printing outputs and text predictions...\n",
      "Predictions: [['ad', '537', 'ey']]\n",
      "Performing predictions on: dev/mercosur/sunny/sunny_23.jpg\n",
      "Total prediction time: 1.3794987201690674 seconds\n",
      "Printing outputs and text predictions...\n",
      "Predictions: [['aa', '778', 'an']]\n",
      "Performing predictions on: dev/mercosur/sunny/sunny_24.jpg\n",
      "Total prediction time: 3.4699254035949707 seconds\n",
      "Printing outputs and text predictions...\n",
      "Predictions: [['ab', '801', 'kg']]\n",
      "Performing predictions on: dev/mercosur/sunny/sunny_25.jpg\n",
      "Total prediction time: 2.6108298301696777 seconds\n",
      "Printing outputs and text predictions...\n",
      "Predictions: [['ad', '581', 'gr']]\n",
      "Performing predictions on: dev/mercosur/sunny/sunny_26.jpg\n",
      "Total prediction time: 3.616544246673584 seconds\n",
      "Printing outputs and text predictions...\n",
      "Predictions: [['aa228', 'sm']]\n",
      "Performing predictions on: dev/mercosur/sunny/sunny_27.jpg\n",
      "Total prediction time: 0.6120510101318359 seconds\n",
      "Printing outputs and text predictions...\n",
      "Predictions: [['']]\n",
      "Performing predictions on: dev/mercosur/sunny/sunny_28.jpg\n",
      "Total prediction time: 2.1119260787963867 seconds\n",
      "Printing outputs and text predictions...\n",
      "Predictions: [['ad', '550', 'og']]\n",
      "Performing predictions on: dev/mercosur/sunny/sunny_29.jpg\n",
      "Total prediction time: 1.7681841850280762 seconds\n",
      "Printing outputs and text predictions...\n",
      "Predictions: [['ac', '552', 'xb']]\n",
      "Performing predictions on: dev/mercosur/sunny/sunny_3.jpg\n",
      "Total prediction time: 1.5474936962127686 seconds\n",
      "Printing outputs and text predictions...\n",
      "Predictions: [['aa', '018', 'xi']]\n",
      "Performing predictions on: dev/mercosur/sunny/sunny_30.jpg\n",
      "Total prediction time: 2.7355942726135254 seconds\n",
      "Printing outputs and text predictions...\n",
      "Predictions: [['aa', '615', 'wb']]\n",
      "Performing predictions on: dev/mercosur/sunny/sunny_31.jpg\n",
      "Total prediction time: 1.9501478672027588 seconds\n",
      "Printing outputs and text predictions...\n",
      "Predictions: [['ab', '371', 'ku']]\n",
      "Performing predictions on: dev/mercosur/sunny/sunny_32.jpg\n",
      "Total prediction time: 1.818375825881958 seconds\n",
      "Printing outputs and text predictions...\n",
      "Predictions: [['ab', '356', 'zy']]\n",
      "Performing predictions on: dev/mercosur/sunny/sunny_33.jpg\n",
      "Total prediction time: 2.132222890853882 seconds\n",
      "Printing outputs and text predictions...\n",
      "Predictions: [['aa', '583', 'sj']]\n",
      "Performing predictions on: dev/mercosur/sunny/sunny_34.jpg\n",
      "Total prediction time: 1.961348533630371 seconds\n",
      "Printing outputs and text predictions...\n",
      "Predictions: [['cc', '0850', 'y']]\n",
      "Performing predictions on: dev/mercosur/sunny/sunny_35.jpg\n",
      "Total prediction time: 2.7976160049438477 seconds\n",
      "Printing outputs and text predictions...\n",
      "Predictions: [['ae', '17', 'zl']]\n",
      "Performing predictions on: dev/mercosur/sunny/sunny_36.jpg\n",
      "Total prediction time: 2.052259922027588 seconds\n",
      "Printing outputs and text predictions...\n",
      "Predictions: [['ad', '126', 'ye']]\n",
      "Performing predictions on: dev/mercosur/sunny/sunny_37.jpg\n",
      "Total prediction time: 2.6248693466186523 seconds\n",
      "Printing outputs and text predictions...\n",
      "Predictions: [['ab', '775', 'nq']]\n",
      "Performing predictions on: dev/mercosur/sunny/sunny_38.jpg\n",
      "Total prediction time: 1.8226618766784668 seconds\n",
      "Printing outputs and text predictions...\n",
      "Predictions: [['ad', '283', 'so']]\n",
      "Performing predictions on: dev/mercosur/sunny/sunny_40.jpg\n",
      "Total prediction time: 2.629216432571411 seconds\n",
      "Printing outputs and text predictions...\n",
      "Predictions: [['ae', '121', 'dd']]\n",
      "Performing predictions on: dev/mercosur/sunny/sunny_41.jpg\n",
      "Total prediction time: 2.1602439880371094 seconds\n",
      "Printing outputs and text predictions...\n",
      "Predictions: [['ac', '345', 'xg']]\n",
      "Performing predictions on: dev/mercosur/sunny/sunny_42.jpg\n",
      "Total prediction time: 2.073479413986206 seconds\n",
      "Printing outputs and text predictions...\n",
      "Predictions: [['ac', '256', 'oz']]\n",
      "Performing predictions on: dev/mercosur/sunny/sunny_43.jpg\n",
      "Total prediction time: 2.23622989654541 seconds\n",
      "Printing outputs and text predictions...\n",
      "Predictions: [['ad', '277', 'yc']]\n",
      "Performing predictions on: dev/mercosur/sunny/sunny_44.jpg\n",
      "Total prediction time: 3.3519093990325928 seconds\n",
      "Printing outputs and text predictions...\n",
      "Predictions: [['aa', '483', 'sz']]\n",
      "Performing predictions on: dev/mercosur/sunny/sunny_45.jpg\n",
      "Total prediction time: 2.2313215732574463 seconds\n",
      "Printing outputs and text predictions...\n",
      "Predictions: [['aa', '079', 'fu']]\n",
      "Performing predictions on: dev/mercosur/sunny/sunny_46.jpg\n",
      "Total prediction time: 2.68133807182312 seconds\n",
      "Printing outputs and text predictions...\n",
      "Predictions: [['aa', '411', 'hj']]\n",
      "Performing predictions on: dev/mercosur/sunny/sunny_5.jpg\n",
      "Total prediction time: 2.266777515411377 seconds\n",
      "Printing outputs and text predictions...\n",
      "Predictions: [['mercodesrenz', 'ab', 'cols']]\n",
      "Performing predictions on: dev/mercosur/sunny/sunny_50.jpg\n",
      "Total prediction time: 2.2354705333709717 seconds\n",
      "Printing outputs and text predictions...\n",
      "Predictions: [['ad', '121', 'ok']]\n",
      "Performing predictions on: dev/mercosur/sunny/sunny_6.jpg\n",
      "Total prediction time: 2.276780128479004 seconds\n",
      "Printing outputs and text predictions...\n",
      "Predictions: [['aa', '778', 'aq']]\n",
      "Performing predictions on: dev/mercosur/sunny/sunny_7.jpg\n",
      "Total prediction time: 0.6393041610717773 seconds\n",
      "Printing outputs and text predictions...\n",
      "Predictions: [['']]\n",
      "Performing predictions on: dev/mercosur/sunny/sunny_8.jpg\n",
      "Total prediction time: 0.6174483299255371 seconds\n",
      "Printing outputs and text predictions...\n",
      "Predictions: [['']]\n",
      "Performing predictions on: dev/mercosur/sunny/sunny_9.jpg\n",
      "Total prediction time: 2.0990443229675293 seconds\n",
      "Printing outputs and text predictions...\n",
      "Predictions: [['aa', '205', 'no']]\n"
     ]
    }
   ],
   "source": [
    "lp_predictions = []\n",
    "for file in files_path:\n",
    "    print('Performing predictions on: {}'.format(file))\n",
    "    start_time = time.time()\n",
    "    lp_boxes, txt_pred = pipeline.image([file], syntax_analyzer=True)\n",
    "    end_time = time.time()\n",
    "    print('Total prediction time: {} seconds'.format(end_time-start_time))\n",
    "    print('Printing outputs and text predictions...')\n",
    "    # # Bounding Boxes\n",
    "    for boxes, txt in zip(lp_boxes, txt_pred):\n",
    "#         output = yolobbox.draw_boxes(cv2.imread(file), boxes, ['licence_plate'])\n",
    "#         plt.imshow(cv2.cvtColor(output, cv2.COLOR_BGR2RGB))\n",
    "#         plt.axis('off')\n",
    "#         plt.show()\n",
    "        print('Predictions: {}'.format(txt))\n",
    "        lp_predictions.append(txt) "
   ]
  },
  {
   "cell_type": "code",
   "execution_count": 11,
   "metadata": {},
   "outputs": [
    {
     "data": {
      "text/plain": [
       "[[['aa', '388', 'jg']],\n",
       " [['']],\n",
       " [['ad', '448', 'ob']],\n",
       " [['ad', '812', 'mv']],\n",
       " [['d', '507', 'qj']],\n",
       " [['ac', '371', 'le']],\n",
       " [['']],\n",
       " [['']],\n",
       " [['aa', '624', 'vj']],\n",
       " [['aa', '624', 'vj']],\n",
       " [['aa', '205', 'nx']],\n",
       " [['aa', 'ooo', 'aa']],\n",
       " [['']],\n",
       " [['ab', '372', 'jn']],\n",
       " [['ad', '537', 'ey']],\n",
       " [['aa', '778', 'an']],\n",
       " [['ab', '801', 'kg']],\n",
       " [['ad', '581', 'gr']],\n",
       " [['aa228', 'sm']],\n",
       " [['']],\n",
       " [['ad', '550', 'og']],\n",
       " [['ac', '552', 'xb']],\n",
       " [['aa', '018', 'xi']],\n",
       " [['aa', '615', 'wb']],\n",
       " [['ab', '371', 'ku']],\n",
       " [['ab', '356', 'zy']],\n",
       " [['aa', '583', 'sj']],\n",
       " [['cc', '0850', 'y']],\n",
       " [['ae', '17', 'zl']],\n",
       " [['ad', '126', 'ye']],\n",
       " [['ab', '775', 'nq']],\n",
       " [['ad', '283', 'so']],\n",
       " [['ae', '121', 'dd']],\n",
       " [['ac', '345', 'xg']],\n",
       " [['ac', '256', 'oz']],\n",
       " [['ad', '277', 'yc']],\n",
       " [['aa', '483', 'sz']],\n",
       " [['aa', '079', 'fu']],\n",
       " [['aa', '411', 'hj']],\n",
       " [['mercodesrenz', 'ab', 'cols']],\n",
       " [['ad', '121', 'ok']],\n",
       " [['aa', '778', 'aq']],\n",
       " [['']],\n",
       " [['']],\n",
       " [['aa', '205', 'no']]]"
      ]
     },
     "execution_count": 11,
     "metadata": {},
     "output_type": "execute_result"
    }
   ],
   "source": [
    "lp_predictions"
   ]
  },
  {
   "cell_type": "code",
   "execution_count": 12,
   "metadata": {},
   "outputs": [],
   "source": [
    "sunny = []\n",
    "for image in lp_predictions:\n",
    "    image_lps = []\n",
    "    for lp in image:\n",
    "        lp_text = ''.join(lp)\n",
    "        image_lps.append(lp_text.upper())\n",
    "    sunny.append(image_lps)"
   ]
  },
  {
   "cell_type": "code",
   "execution_count": 13,
   "metadata": {},
   "outputs": [
    {
     "data": {
      "text/plain": [
       "[['AA388JG'],\n",
       " [''],\n",
       " ['AD448OB'],\n",
       " ['AD812MV'],\n",
       " ['D507QJ'],\n",
       " ['AC371LE'],\n",
       " [''],\n",
       " [''],\n",
       " ['AA624VJ'],\n",
       " ['AA624VJ'],\n",
       " ['AA205NX'],\n",
       " ['AAOOOAA'],\n",
       " [''],\n",
       " ['AB372JN'],\n",
       " ['AD537EY'],\n",
       " ['AA778AN'],\n",
       " ['AB801KG'],\n",
       " ['AD581GR'],\n",
       " ['AA228SM'],\n",
       " [''],\n",
       " ['AD550OG'],\n",
       " ['AC552XB'],\n",
       " ['AA018XI'],\n",
       " ['AA615WB'],\n",
       " ['AB371KU'],\n",
       " ['AB356ZY'],\n",
       " ['AA583SJ'],\n",
       " ['CC0850Y'],\n",
       " ['AE17ZL'],\n",
       " ['AD126YE'],\n",
       " ['AB775NQ'],\n",
       " ['AD283SO'],\n",
       " ['AE121DD'],\n",
       " ['AC345XG'],\n",
       " ['AC256OZ'],\n",
       " ['AD277YC'],\n",
       " ['AA483SZ'],\n",
       " ['AA079FU'],\n",
       " ['AA411HJ'],\n",
       " ['MERCODESRENZABCOLS'],\n",
       " ['AD121OK'],\n",
       " ['AA778AQ'],\n",
       " [''],\n",
       " [''],\n",
       " ['AA205NO']]"
      ]
     },
     "execution_count": 13,
     "metadata": {},
     "output_type": "execute_result"
    }
   ],
   "source": [
    "sunny"
   ]
  },
  {
   "cell_type": "code",
   "execution_count": 15,
   "metadata": {
    "scrolled": true
   },
   "outputs": [],
   "source": [
    "with open('dev/metrics/sunny.data', 'wb') as file:  \n",
    "    pkl.dump(sunny, file)"
   ]
  },
  {
   "cell_type": "markdown",
   "metadata": {},
   "source": [
    "### 4. Get GT"
   ]
  },
  {
   "cell_type": "code",
   "execution_count": 14,
   "metadata": {},
   "outputs": [],
   "source": [
    "gt = []\n",
    "for file in annot_path:\n",
    "    tree = ET.parse(file)\n",
    "    root = tree.getroot()\n",
    "    lp_text = []\n",
    "    for lp in root.iter('object'):\n",
    "        lp_text.append(lp.find('text').text)\n",
    "    gt.append(lp_text)"
   ]
  },
  {
   "cell_type": "code",
   "execution_count": 15,
   "metadata": {},
   "outputs": [
    {
     "data": {
      "text/plain": [
       "[['AA388JG'],\n",
       " ['AA205NO'],\n",
       " ['AD448OB'],\n",
       " ['AD812MV'],\n",
       " ['AD507QJ'],\n",
       " ['AC371LE'],\n",
       " ['AA924TF'],\n",
       " ['AD537EI'],\n",
       " ['AA624VJ'],\n",
       " ['AA624VJ'],\n",
       " ['AA205NX'],\n",
       " ['AA000AA'],\n",
       " ['AA015CR'],\n",
       " ['AB372JN'],\n",
       " ['AD537EY'],\n",
       " ['AA778AN'],\n",
       " ['AB801KG'],\n",
       " ['AD581GR'],\n",
       " ['AA228SM'],\n",
       " ['AA091JH'],\n",
       " ['AD550OG'],\n",
       " ['AC552XB'],\n",
       " ['AA018XI'],\n",
       " ['AA695WB'],\n",
       " ['AB371KU'],\n",
       " ['AB356ZY'],\n",
       " ['AA583SJ'],\n",
       " ['AC630IY'],\n",
       " ['AE197ZL'],\n",
       " ['AD126YE'],\n",
       " ['AB775NQ'],\n",
       " ['AD283SO'],\n",
       " ['AE129DD'],\n",
       " ['AC345XG'],\n",
       " ['AC256OZ'],\n",
       " ['AD277YC'],\n",
       " ['AA483SZ'],\n",
       " ['AA079FU'],\n",
       " ['AA411HJ'],\n",
       " ['AB661LS'],\n",
       " ['AD431QK'],\n",
       " ['AA778AQ', 'AA736KL'],\n",
       " ['AA736KL'],\n",
       " ['AA205NO'],\n",
       " ['AA205NO']]"
      ]
     },
     "execution_count": 15,
     "metadata": {},
     "output_type": "execute_result"
    }
   ],
   "source": [
    "gt"
   ]
  },
  {
   "cell_type": "code",
   "execution_count": 18,
   "metadata": {},
   "outputs": [],
   "source": [
    "with open('dev/metrics/gt.data', 'wb') as file:  \n",
    "    pkl.dump(gt, file)"
   ]
  },
  {
   "cell_type": "markdown",
   "metadata": {},
   "source": [
    "### 5. Metrics (Normal)"
   ]
  },
  {
   "cell_type": "code",
   "execution_count": 16,
   "metadata": {},
   "outputs": [
    {
     "name": "stdout",
     "output_type": "stream",
     "text": [
      "[('AA388JG', 'AA388JG')]\n",
      "[('AA205NO', '')]\n",
      "[('AD448OB', 'AD448OB')]\n",
      "[('AD812MV', 'AD812MV')]\n",
      "[('AD507QJ', 'D507QJ')]\n",
      "[('AC371LE', 'AC371LE')]\n",
      "[('AA924TF', '')]\n",
      "[('AD537EI', '')]\n",
      "[('AA624VJ', 'AA624VJ')]\n",
      "[('AA624VJ', 'AA624VJ')]\n",
      "[('AA205NX', 'AA205NX')]\n",
      "[('AA000AA', 'AAOOOAA')]\n",
      "[('AA015CR', '')]\n",
      "[('AB372JN', 'AB372JN')]\n",
      "[('AD537EY', 'AD537EY')]\n",
      "[('AA778AN', 'AA778AN')]\n",
      "[('AB801KG', 'AB801KG')]\n",
      "[('AD581GR', 'AD581GR')]\n",
      "[('AA228SM', 'AA228SM')]\n",
      "[('AA091JH', '')]\n",
      "[('AD550OG', 'AD550OG')]\n",
      "[('AC552XB', 'AC552XB')]\n",
      "[('AA018XI', 'AA018XI')]\n",
      "[('AA695WB', 'AA615WB')]\n",
      "[('AB371KU', 'AB371KU')]\n",
      "[('AB356ZY', 'AB356ZY')]\n",
      "[('AA583SJ', 'AA583SJ')]\n",
      "[('AC630IY', 'CC0850Y')]\n",
      "[('AE197ZL', 'AE17ZL')]\n",
      "[('AD126YE', 'AD126YE')]\n",
      "[('AB775NQ', 'AB775NQ')]\n",
      "[('AD283SO', 'AD283SO')]\n",
      "[('AE129DD', 'AE121DD')]\n",
      "[('AC345XG', 'AC345XG')]\n",
      "[('AC256OZ', 'AC256OZ')]\n",
      "[('AD277YC', 'AD277YC')]\n",
      "[('AA483SZ', 'AA483SZ')]\n",
      "[('AA079FU', 'AA079FU')]\n",
      "[('AA411HJ', 'AA411HJ')]\n",
      "[('AB661LS', 'MERCODESRENZABCOLS')]\n",
      "[('AD431QK', 'AD121OK')]\n",
      "[('AA778AQ', 'AA778AQ'), ('AA736KL', 'AA778AQ')]\n",
      "[('AA736KL', '')]\n",
      "[('AA205NO', '')]\n",
      "[('AA205NO', 'AA205NO')]\n",
      "TP: 30.0\n",
      "FP: 8.0\n",
      "FN: 16.0\n",
      "Accuracy: 0.5555555555555556\n",
      "Precision: 0.7894736842105263\n",
      "Recall: 0.6521739130434783\n",
      "\n",
      "\n",
      "LS_FP_FN: 0.34077380952380953\n"
     ]
    }
   ],
   "source": [
    "metrics.evaluate(ground_truth=gt, predictions=sunny)"
   ]
  }
 ],
 "metadata": {
  "kernelspec": {
   "display_name": "Python 3",
   "language": "python",
   "name": "python3"
  },
  "language_info": {
   "codemirror_mode": {
    "name": "ipython",
    "version": 3
   },
   "file_extension": ".py",
   "mimetype": "text/x-python",
   "name": "python",
   "nbconvert_exporter": "python",
   "pygments_lexer": "ipython3",
   "version": "3.7.3"
  }
 },
 "nbformat": 4,
 "nbformat_minor": 2
}
