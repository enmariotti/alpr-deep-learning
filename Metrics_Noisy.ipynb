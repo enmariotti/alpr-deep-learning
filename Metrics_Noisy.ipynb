{
 "cells": [
  {
   "cell_type": "markdown",
   "metadata": {},
   "source": [
    "# Pipeline (YOLOv3 + CRAFT + CRNN) Metrics"
   ]
  },
  {
   "cell_type": "code",
   "execution_count": 1,
   "metadata": {},
   "outputs": [],
   "source": [
    "import os\n",
    "import sys\n",
    "import cv2\n",
    "import time\n",
    "import pickle as pkl\n",
    "import textdistance as td\n",
    "import xml.etree.ElementTree as ET"
   ]
  },
  {
   "cell_type": "code",
   "execution_count": 2,
   "metadata": {},
   "outputs": [],
   "source": [
    "import numpy as np\n",
    "from itertools import zip_longest"
   ]
  },
  {
   "cell_type": "code",
   "execution_count": 4,
   "metadata": {},
   "outputs": [],
   "source": [
    "from IPython.display import Image\n",
    "import matplotlib.pyplot as plt\n",
    "plt.rcParams[\"figure.figsize\"] = (15,15)"
   ]
  },
  {
   "cell_type": "code",
   "execution_count": 5,
   "metadata": {},
   "outputs": [
    {
     "name": "stderr",
     "output_type": "stream",
     "text": [
      "Using TensorFlow backend.\n"
     ]
    }
   ],
   "source": [
    "from src.Pipeline import Pipeline\n",
    "import src.Metrics as metrics\n",
    "import src.CraftTools as crafttools\n",
    "import src.YOLOBbox as yolobbox\n",
    "%load_ext autoreload\n",
    "%autoreload 2"
   ]
  },
  {
   "cell_type": "code",
   "execution_count": null,
   "metadata": {},
   "outputs": [],
   "source": [
    "Image(filename='doc/text-distance-table.png') "
   ]
  },
  {
   "cell_type": "markdown",
   "metadata": {},
   "source": [
    "## MERCOSUR (EU Format) Noisy"
   ]
  },
  {
   "cell_type": "markdown",
   "metadata": {},
   "source": [
    "### 1. Dataset & annotations"
   ]
  },
  {
   "cell_type": "code",
   "execution_count": 6,
   "metadata": {},
   "outputs": [],
   "source": [
    "image_dir = 'dev/mercosur/noisy/'\n",
    "annot_dir='dev/mercosur_annotations/noisy/'"
   ]
  },
  {
   "cell_type": "code",
   "execution_count": 7,
   "metadata": {},
   "outputs": [],
   "source": [
    "files_path = [os.path.join(image_dir, f) for f in os.listdir(image_dir) if os.path.isfile(os.path.join(image_dir, f))]\n",
    "files_path.sort()\n",
    "annot_path = [os.path.join(annot_dir, f) for f in os.listdir(annot_dir) if os.path.isfile(os.path.join(annot_dir, f))]\n",
    "annot_path.sort()"
   ]
  },
  {
   "cell_type": "code",
   "execution_count": 8,
   "metadata": {
    "scrolled": true
   },
   "outputs": [
    {
     "data": {
      "text/plain": [
       "45"
      ]
     },
     "execution_count": 8,
     "metadata": {},
     "output_type": "execute_result"
    }
   ],
   "source": [
    "len(files_path)"
   ]
  },
  {
   "cell_type": "markdown",
   "metadata": {},
   "source": [
    "### 2. Pipeline"
   ]
  },
  {
   "cell_type": "code",
   "execution_count": 9,
   "metadata": {},
   "outputs": [
    {
     "name": "stdout",
     "output_type": "stream",
     "text": [
      "Creating pipeline...\n",
      "Pipeline created in: 18.030531406402588 seconds\n",
      "\n"
     ]
    }
   ],
   "source": [
    "np.random.seed(14)\n",
    "print('Creating pipeline...')\n",
    "start_time = time.time()\n",
    "pipeline = Pipeline()\n",
    "end_time = time.time()\n",
    "print('Pipeline created in: {} seconds\\n'.format(end_time-start_time))"
   ]
  },
  {
   "cell_type": "markdown",
   "metadata": {},
   "source": [
    "### 3. Predictions"
   ]
  },
  {
   "cell_type": "code",
   "execution_count": null,
   "metadata": {
    "scrolled": true
   },
   "outputs": [
    {
     "name": "stdout",
     "output_type": "stream",
     "text": [
      "Performing predictions on: dev/mercosur/noisy/noisy_1.jpg\n",
      "Total prediction time: 5.764258146286011 seconds\n",
      "Printing outputs and text predictions...\n",
      "Predictions: [['aa', '388', 'jg']]\n",
      "Performing predictions on: dev/mercosur/noisy/noisy_10.jpg\n",
      "Total prediction time: 2.055354595184326 seconds\n",
      "Printing outputs and text predictions...\n",
      "Predictions: [['aa', '205', 'no']]\n",
      "Performing predictions on: dev/mercosur/noisy/noisy_11.jpg\n",
      "Total prediction time: 2.5323073863983154 seconds\n",
      "Printing outputs and text predictions...\n",
      "Predictions: [['rse', 'ad', '448', 'ob']]\n",
      "Performing predictions on: dev/mercosur/noisy/noisy_12.jpg\n",
      "Total prediction time: 4.423664808273315 seconds\n",
      "Printing outputs and text predictions...\n",
      "Predictions: [['ad812v']]\n",
      "Performing predictions on: dev/mercosur/noisy/noisy_13.jpg\n",
      "Total prediction time: 0.6174671649932861 seconds\n",
      "Printing outputs and text predictions...\n",
      "Predictions: [['']]\n",
      "Performing predictions on: dev/mercosur/noisy/noisy_14.jpg\n",
      "Total prediction time: 1.5272948741912842 seconds\n",
      "Printing outputs and text predictions...\n",
      "Predictions: [['ac', '371', 'le']]\n",
      "Performing predictions on: dev/mercosur/noisy/noisy_15.jpg\n",
      "Total prediction time: 0.5965631008148193 seconds\n",
      "Printing outputs and text predictions...\n",
      "Predictions: [['']]\n",
      "Performing predictions on: dev/mercosur/noisy/noisy_16.jpg\n",
      "Total prediction time: 2.0278921127319336 seconds\n",
      "Printing outputs and text predictions...\n",
      "Predictions: [['ad', '537', 'ei']]\n",
      "Performing predictions on: dev/mercosur/noisy/noisy_17.jpg\n",
      "Total prediction time: 2.8168015480041504 seconds\n",
      "Printing outputs and text predictions...\n",
      "Predictions: [['aa', '624', 'vi']]\n",
      "Performing predictions on: dev/mercosur/noisy/noisy_18.jpg\n",
      "Total prediction time: 2.674231767654419 seconds\n",
      "Printing outputs and text predictions...\n",
      "Predictions: [['aa', '624', 'vj']]\n",
      "Performing predictions on: dev/mercosur/noisy/noisy_19.jpg\n",
      "Total prediction time: 2.016589403152466 seconds\n",
      "Printing outputs and text predictions...\n",
      "Predictions: [['aa', '205', 'nx']]\n",
      "Performing predictions on: dev/mercosur/noisy/noisy_2.jpg\n",
      "Total prediction time: 1.7037551403045654 seconds\n",
      "Printing outputs and text predictions...\n",
      "Predictions: [['aa', 'ooo', 'aa']]\n",
      "Performing predictions on: dev/mercosur/noisy/noisy_20.jpg\n",
      "Total prediction time: 1.4608936309814453 seconds\n",
      "Printing outputs and text predictions...\n",
      "Predictions: [['aa', '015', 'cr']]\n",
      "Performing predictions on: dev/mercosur/noisy/noisy_21.jpg\n",
      "Total prediction time: 2.683753490447998 seconds\n",
      "Printing outputs and text predictions...\n",
      "Predictions: [['ab', '372', 'un']]\n",
      "Performing predictions on: dev/mercosur/noisy/noisy_22.jpg\n",
      "Total prediction time: 3.8482987880706787 seconds\n",
      "Printing outputs and text predictions...\n",
      "Predictions: [['137', 'ey']]\n",
      "Performing predictions on: dev/mercosur/noisy/noisy_23.jpg\n",
      "Total prediction time: 1.4151811599731445 seconds\n",
      "Printing outputs and text predictions...\n",
      "Predictions: [['aa', '778', 'an']]\n",
      "Performing predictions on: dev/mercosur/noisy/noisy_24.jpg\n",
      "Total prediction time: 3.387052297592163 seconds\n",
      "Printing outputs and text predictions...\n",
      "Predictions: [['abbutkg']]\n",
      "Performing predictions on: dev/mercosur/noisy/noisy_25.jpg\n",
      "Total prediction time: 2.552685022354126 seconds\n",
      "Printing outputs and text predictions...\n",
      "Predictions: [['ad', '581', 'gr']]\n",
      "Performing predictions on: dev/mercosur/noisy/noisy_26.jpg\n",
      "Total prediction time: 3.2171125411987305 seconds\n",
      "Printing outputs and text predictions...\n",
      "Predictions: [['aa228', 'sm']]\n",
      "Performing predictions on: dev/mercosur/noisy/noisy_27.jpg\n",
      "Total prediction time: 0.7111151218414307 seconds\n",
      "Printing outputs and text predictions...\n",
      "Predictions: [['']]\n",
      "Performing predictions on: dev/mercosur/noisy/noisy_28.jpg\n",
      "Total prediction time: 2.5411314964294434 seconds\n",
      "Printing outputs and text predictions...\n",
      "Predictions: [['ad', '550', 'og']]\n",
      "Performing predictions on: dev/mercosur/noisy/noisy_29.jpg\n",
      "Total prediction time: 0.6280004978179932 seconds\n",
      "Printing outputs and text predictions...\n",
      "Predictions: [['']]\n",
      "Performing predictions on: dev/mercosur/noisy/noisy_3.jpg\n",
      "Total prediction time: 1.3203015327453613 seconds\n",
      "Printing outputs and text predictions...\n",
      "Predictions: [['aa', '018', 'xi']]\n",
      "Performing predictions on: dev/mercosur/noisy/noisy_30.jpg\n",
      "Total prediction time: 2.7820076942443848 seconds\n",
      "Printing outputs and text predictions...\n",
      "Predictions: [['aa', '695', 'b']]\n",
      "Performing predictions on: dev/mercosur/noisy/noisy_31.jpg\n",
      "Total prediction time: 1.9834399223327637 seconds\n",
      "Printing outputs and text predictions...\n",
      "Predictions: [['ab', '317', 'ku']]\n",
      "Performing predictions on: dev/mercosur/noisy/noisy_32.jpg\n",
      "Total prediction time: 1.7938201427459717 seconds\n",
      "Printing outputs and text predictions...\n",
      "Predictions: [['ab', '356', 'zy']]\n",
      "Performing predictions on: dev/mercosur/noisy/noisy_33.jpg\n",
      "Total prediction time: 2.216855049133301 seconds\n",
      "Printing outputs and text predictions...\n",
      "Predictions: [['aa', '587', 'sj']]\n",
      "Performing predictions on: dev/mercosur/noisy/noisy_34.jpg\n",
      "Total prediction time: 1.8521573543548584 seconds\n",
      "Printing outputs and text predictions...\n",
      "Predictions: [['cc', '00']]\n",
      "Performing predictions on: dev/mercosur/noisy/noisy_35.jpg\n",
      "Total prediction time: 0.674630880355835 seconds\n",
      "Printing outputs and text predictions...\n",
      "Predictions: [['']]\n",
      "Performing predictions on: dev/mercosur/noisy/noisy_36.jpg\n",
      "Total prediction time: 2.2005579471588135 seconds\n",
      "Printing outputs and text predictions...\n",
      "Predictions: [['ad', '126', 'ye']]\n",
      "Performing predictions on: dev/mercosur/noisy/noisy_37.jpg\n",
      "Total prediction time: 2.519784450531006 seconds\n",
      "Printing outputs and text predictions...\n",
      "Predictions: [['ab', '775', 'nq']]\n",
      "Performing predictions on: dev/mercosur/noisy/noisy_38.jpg\n",
      "Total prediction time: 1.9664018154144287 seconds\n",
      "Printing outputs and text predictions...\n",
      "Predictions: [['ad', '283', 's0']]\n",
      "Performing predictions on: dev/mercosur/noisy/noisy_40.jpg\n",
      "Total prediction time: 2.700511932373047 seconds\n",
      "Printing outputs and text predictions...\n",
      "Predictions: [['ae', '121', 'dd']]\n",
      "Performing predictions on: dev/mercosur/noisy/noisy_41.jpg\n",
      "Total prediction time: 2.1908657550811768 seconds\n",
      "Printing outputs and text predictions...\n",
      "Predictions: [['ac', '345', 'xg']]\n",
      "Performing predictions on: dev/mercosur/noisy/noisy_42.jpg\n",
      "Total prediction time: 2.1067240238189697 seconds\n",
      "Printing outputs and text predictions...\n",
      "Predictions: [['careanna']]\n",
      "Performing predictions on: dev/mercosur/noisy/noisy_43.jpg\n"
     ]
    }
   ],
   "source": [
    "lp_predictions = []\n",
    "for file in files_path:\n",
    "    print('Performing predictions on: {}'.format(file))\n",
    "    start_time = time.time()\n",
    "    lp_boxes, txt_pred = pipeline.image([file], syntax_analyzer=True)\n",
    "    end_time = time.time()\n",
    "    print('Total prediction time: {} seconds'.format(end_time-start_time))\n",
    "    print('Printing outputs and text predictions...')\n",
    "    # # Bounding Boxes\n",
    "    for boxes, txt in zip(lp_boxes, txt_pred):\n",
    "#         output = yolobbox.draw_boxes(cv2.imread(file), boxes, ['licence_plate'])\n",
    "#         plt.imshow(cv2.cvtColor(output, cv2.COLOR_BGR2RGB))\n",
    "#         plt.axis('off')\n",
    "#         plt.show()\n",
    "        print('Predictions: {}'.format(txt))\n",
    "        lp_predictions.append(txt) "
   ]
  },
  {
   "cell_type": "code",
   "execution_count": 10,
   "metadata": {},
   "outputs": [
    {
     "data": {
      "text/plain": [
       "[[['aa', '388', 'jg']],\n",
       " [['aa', '205', 'no']],\n",
       " [['rse', 'ad', '448', 'ob']],\n",
       " [['ad812v']],\n",
       " [['']],\n",
       " [['ac', '371', 'le']],\n",
       " [['']],\n",
       " [['ad', '537', 'ei']],\n",
       " [['aa', '624', 'vi']],\n",
       " [['aa', '624', 'vj']],\n",
       " [['aa', '205', 'nx']],\n",
       " [['aa', 'ooo', 'aa']],\n",
       " [['aa', '015', 'cr']],\n",
       " [['ab', '372', 'un']],\n",
       " [['137', 'ey']],\n",
       " [['aa', '778', 'an']],\n",
       " [['abbutkg']],\n",
       " [['ad', '581', 'gr']],\n",
       " [['aa228', 'sm']],\n",
       " [['']],\n",
       " [['ad', '550', 'og']],\n",
       " [['']],\n",
       " [['aa', '018', 'xi']],\n",
       " [['aa', '695', 'b']],\n",
       " [['ab', '317', 'ku']],\n",
       " [['ab', '356', 'zy']],\n",
       " [['aa', '587', 'sj']],\n",
       " [['cc', '00']],\n",
       " [['']],\n",
       " [['ad', '126', 'ye']],\n",
       " [['ab', '775', 'nq']],\n",
       " [['ad', '283', 's0']],\n",
       " [['ae', '121', 'dd']],\n",
       " [['ac', '345', 'xg']],\n",
       " [['careanna']],\n",
       " [['ad', '277', 'yc']],\n",
       " [['aa', '483', 's7']],\n",
       " [['aa', '070', 'fu']],\n",
       " [['aa', '111', 'hj']],\n",
       " [['mercedes', 'benz']],\n",
       " [['ad', '15z1sk']],\n",
       " [['aa', '778', 'aq']],\n",
       " [['']],\n",
       " [['aa', '205', 'no']],\n",
       " [['ha', '215', 'no']]]"
      ]
     },
     "execution_count": 10,
     "metadata": {},
     "output_type": "execute_result"
    }
   ],
   "source": [
    "lp_predictions"
   ]
  },
  {
   "cell_type": "code",
   "execution_count": 11,
   "metadata": {},
   "outputs": [],
   "source": [
    "noisy = []\n",
    "for image in lp_predictions:\n",
    "    image_lps = []\n",
    "    for lp in image:\n",
    "        lp_text = ''.join(lp)\n",
    "        image_lps.append(lp_text.upper())\n",
    "    noisy.append(image_lps)"
   ]
  },
  {
   "cell_type": "code",
   "execution_count": 12,
   "metadata": {},
   "outputs": [
    {
     "data": {
      "text/plain": [
       "[['AA388JG'],\n",
       " ['AA205NO'],\n",
       " ['RSEAD448OB'],\n",
       " ['AD812V'],\n",
       " [''],\n",
       " ['AC371LE'],\n",
       " [''],\n",
       " ['AD537EI'],\n",
       " ['AA624VI'],\n",
       " ['AA624VJ'],\n",
       " ['AA205NX'],\n",
       " ['AAOOOAA'],\n",
       " ['AA015CR'],\n",
       " ['AB372UN'],\n",
       " ['137EY'],\n",
       " ['AA778AN'],\n",
       " ['ABBUTKG'],\n",
       " ['AD581GR'],\n",
       " ['AA228SM'],\n",
       " [''],\n",
       " ['AD550OG'],\n",
       " [''],\n",
       " ['AA018XI'],\n",
       " ['AA695B'],\n",
       " ['AB317KU'],\n",
       " ['AB356ZY'],\n",
       " ['AA587SJ'],\n",
       " ['CC00'],\n",
       " [''],\n",
       " ['AD126YE'],\n",
       " ['AB775NQ'],\n",
       " ['AD283S0'],\n",
       " ['AE121DD'],\n",
       " ['AC345XG'],\n",
       " ['CAREANNA'],\n",
       " ['AD277YC'],\n",
       " ['AA483S7'],\n",
       " ['AA070FU'],\n",
       " ['AA111HJ'],\n",
       " ['MERCEDESBENZ'],\n",
       " ['AD15Z1SK'],\n",
       " ['AA778AQ'],\n",
       " [''],\n",
       " ['AA205NO'],\n",
       " ['HA215NO']]"
      ]
     },
     "execution_count": 12,
     "metadata": {},
     "output_type": "execute_result"
    }
   ],
   "source": [
    "noisy"
   ]
  },
  {
   "cell_type": "code",
   "execution_count": 13,
   "metadata": {
    "scrolled": true
   },
   "outputs": [],
   "source": [
    "with open('dev/metrics/noisy.data', 'wb') as file:  \n",
    "    pkl.dump(noisy, file)"
   ]
  },
  {
   "cell_type": "markdown",
   "metadata": {},
   "source": [
    "### 4. Get GT"
   ]
  },
  {
   "cell_type": "code",
   "execution_count": 14,
   "metadata": {},
   "outputs": [],
   "source": [
    "gt = []\n",
    "for file in annot_path:\n",
    "    tree = ET.parse(file)\n",
    "    root = tree.getroot()\n",
    "    lp_text = []\n",
    "    for lp in root.iter('object'):\n",
    "        lp_text.append(lp.find('text').text)\n",
    "    gt.append(lp_text)"
   ]
  },
  {
   "cell_type": "code",
   "execution_count": 15,
   "metadata": {},
   "outputs": [
    {
     "data": {
      "text/plain": [
       "[['AA388JG'],\n",
       " ['AA205NO'],\n",
       " ['AD448OB'],\n",
       " ['AD812MV'],\n",
       " ['AD507QJ'],\n",
       " ['AC371LE'],\n",
       " ['AA924TF'],\n",
       " ['AD537EI'],\n",
       " ['AA624VJ'],\n",
       " ['AA624VJ'],\n",
       " ['AA205NX'],\n",
       " ['AA000AA'],\n",
       " ['AA015CR'],\n",
       " ['AB372JN'],\n",
       " ['AD537EY'],\n",
       " ['AA778AN'],\n",
       " ['AB801KG'],\n",
       " ['AD581GR'],\n",
       " ['AA228SM'],\n",
       " ['AA091JH'],\n",
       " ['AD550OG'],\n",
       " ['AC552XB'],\n",
       " ['AA018XI'],\n",
       " ['AA695WB'],\n",
       " ['AB371KU'],\n",
       " ['AB356ZY'],\n",
       " ['AA583SJ'],\n",
       " ['AC630IY'],\n",
       " ['AE197ZL'],\n",
       " ['AD126YE'],\n",
       " ['AB775NQ'],\n",
       " ['AD283SO'],\n",
       " ['AE129DD'],\n",
       " ['AC345XG'],\n",
       " ['AC256OZ'],\n",
       " ['AD277YC'],\n",
       " ['AA483SZ'],\n",
       " ['AA079FU'],\n",
       " ['AA411HJ'],\n",
       " ['AB661LS'],\n",
       " ['AD431QK'],\n",
       " ['AA778AQ', 'AA736KL'],\n",
       " ['AA736KL'],\n",
       " ['AA205NO'],\n",
       " ['AA205NO']]"
      ]
     },
     "execution_count": 15,
     "metadata": {},
     "output_type": "execute_result"
    }
   ],
   "source": [
    "gt"
   ]
  },
  {
   "cell_type": "code",
   "execution_count": 16,
   "metadata": {},
   "outputs": [],
   "source": [
    "with open('dev/metrics/gt.data', 'wb') as file:  \n",
    "    pkl.dump(gt, file)"
   ]
  },
  {
   "cell_type": "markdown",
   "metadata": {},
   "source": [
    "### 5. Metrics (Normal)"
   ]
  },
  {
   "cell_type": "code",
   "execution_count": 18,
   "metadata": {},
   "outputs": [
    {
     "name": "stdout",
     "output_type": "stream",
     "text": [
      "[('AA388JG', 'AA388JG')]\n",
      "[('AA205NO', 'AA205NO')]\n",
      "[('AD448OB', 'RSEAD448OB')]\n",
      "[('AD812MV', 'AD812V')]\n",
      "[('AD507QJ', '')]\n",
      "[('AC371LE', 'AC371LE')]\n",
      "[('AA924TF', '')]\n",
      "[('AD537EI', 'AD537EI')]\n",
      "[('AA624VJ', 'AA624VI')]\n",
      "[('AA624VJ', 'AA624VJ')]\n",
      "[('AA205NX', 'AA205NX')]\n",
      "[('AA000AA', 'AAOOOAA')]\n",
      "[('AA015CR', 'AA015CR')]\n",
      "[('AB372JN', 'AB372UN')]\n",
      "[('AD537EY', '137EY')]\n",
      "[('AA778AN', 'AA778AN')]\n",
      "[('AB801KG', 'ABBUTKG')]\n",
      "[('AD581GR', 'AD581GR')]\n",
      "[('AA228SM', 'AA228SM')]\n",
      "[('AA091JH', '')]\n",
      "[('AD550OG', 'AD550OG')]\n",
      "[('AC552XB', '')]\n",
      "[('AA018XI', 'AA018XI')]\n",
      "[('AA695WB', 'AA695B')]\n",
      "[('AB371KU', 'AB317KU')]\n",
      "[('AB356ZY', 'AB356ZY')]\n",
      "[('AA583SJ', 'AA587SJ')]\n",
      "[('AC630IY', 'CC00')]\n",
      "[('AE197ZL', '')]\n",
      "[('AD126YE', 'AD126YE')]\n",
      "[('AB775NQ', 'AB775NQ')]\n",
      "[('AD283SO', 'AD283S0')]\n",
      "[('AE129DD', 'AE121DD')]\n",
      "[('AC345XG', 'AC345XG')]\n",
      "[('AC256OZ', 'CAREANNA')]\n",
      "[('AD277YC', 'AD277YC')]\n",
      "[('AA483SZ', 'AA483S7')]\n",
      "[('AA079FU', 'AA070FU')]\n",
      "[('AA411HJ', 'AA111HJ')]\n",
      "[('AB661LS', 'MERCEDESBENZ')]\n",
      "[('AD431QK', 'AD15Z1SK')]\n",
      "[('AA778AQ', 'AA778AQ'), ('AA736KL', 'AA778AQ')]\n",
      "[('AA736KL', '')]\n",
      "[('AA205NO', 'AA205NO')]\n",
      "[('AA205NO', 'HA215NO')]\n",
      "TP: 19.0\n",
      "FP: 20.0\n",
      "FN: 6\n",
      "Accuracy: 0.4222222222222222\n",
      "Precision: 0.48717948717948717\n",
      "Recall: 0.76\n",
      "\n",
      "\n",
      "LS_FP_FN: 0.4941751700680272\n"
     ]
    }
   ],
   "source": [
    "metrics.evaluate(ground_truth=gt, predictions=noisy)"
   ]
  }
 ],
 "metadata": {
  "kernelspec": {
   "display_name": "Python 3",
   "language": "python",
   "name": "python3"
  },
  "language_info": {
   "codemirror_mode": {
    "name": "ipython",
    "version": 3
   },
   "file_extension": ".py",
   "mimetype": "text/x-python",
   "name": "python",
   "nbconvert_exporter": "python",
   "pygments_lexer": "ipython3",
   "version": "3.7.3"
  }
 },
 "nbformat": 4,
 "nbformat_minor": 2
}
