{
 "cells": [
  {
   "cell_type": "markdown",
   "metadata": {},
   "source": [
    "# Pipeline (YOLOv3 + CRAFT + CRNN) Metrics"
   ]
  },
  {
   "cell_type": "code",
   "execution_count": 1,
   "metadata": {},
   "outputs": [],
   "source": [
    "import os\n",
    "import sys\n",
    "import cv2\n",
    "import time\n",
    "import pickle as pkl\n",
    "import textdistance as td\n",
    "import xml.etree.ElementTree as ET"
   ]
  },
  {
   "cell_type": "code",
   "execution_count": 2,
   "metadata": {},
   "outputs": [],
   "source": [
    "import numpy as np\n",
    "from itertools import zip_longest"
   ]
  },
  {
   "cell_type": "code",
   "execution_count": 4,
   "metadata": {},
   "outputs": [],
   "source": [
    "from IPython.display import Image\n",
    "import matplotlib.pyplot as plt\n",
    "plt.rcParams[\"figure.figsize\"] = (15,15)"
   ]
  },
  {
   "cell_type": "code",
   "execution_count": 5,
   "metadata": {},
   "outputs": [
    {
     "name": "stderr",
     "output_type": "stream",
     "text": [
      "Using TensorFlow backend.\n"
     ]
    }
   ],
   "source": [
    "from src.Pipeline import Pipeline\n",
    "import src.Metrics as metrics\n",
    "import src.CraftTools as crafttools\n",
    "import src.YOLOBbox as yolobbox\n",
    "%load_ext autoreload\n",
    "%autoreload 2"
   ]
  },
  {
   "cell_type": "code",
   "execution_count": null,
   "metadata": {},
   "outputs": [],
   "source": [
    "Image(filename='doc/text-distance-table.png') "
   ]
  },
  {
   "cell_type": "markdown",
   "metadata": {},
   "source": [
    "## MERCOSUR (EU Format) Rainy"
   ]
  },
  {
   "cell_type": "markdown",
   "metadata": {},
   "source": [
    "### 1. Dataset & annotations"
   ]
  },
  {
   "cell_type": "code",
   "execution_count": 6,
   "metadata": {},
   "outputs": [],
   "source": [
    "image_dir = 'dev/mercosur/rainy/'\n",
    "annot_dir='dev/mercosur_annotations/rainy/'"
   ]
  },
  {
   "cell_type": "code",
   "execution_count": 7,
   "metadata": {},
   "outputs": [],
   "source": [
    "files_path = [os.path.join(image_dir, f) for f in os.listdir(image_dir) if os.path.isfile(os.path.join(image_dir, f))]\n",
    "files_path.sort()\n",
    "annot_path = [os.path.join(annot_dir, f) for f in os.listdir(annot_dir) if os.path.isfile(os.path.join(annot_dir, f))]\n",
    "annot_path.sort()"
   ]
  },
  {
   "cell_type": "code",
   "execution_count": 8,
   "metadata": {
    "scrolled": true
   },
   "outputs": [
    {
     "data": {
      "text/plain": [
       "45"
      ]
     },
     "execution_count": 8,
     "metadata": {},
     "output_type": "execute_result"
    }
   ],
   "source": [
    "len(files_path)"
   ]
  },
  {
   "cell_type": "markdown",
   "metadata": {},
   "source": [
    "### 2. Pipeline"
   ]
  },
  {
   "cell_type": "code",
   "execution_count": 9,
   "metadata": {},
   "outputs": [
    {
     "name": "stdout",
     "output_type": "stream",
     "text": [
      "Creating pipeline...\n",
      "Pipeline created in: 18.328786373138428 seconds\n",
      "\n"
     ]
    }
   ],
   "source": [
    "np.random.seed(14)\n",
    "print('Creating pipeline...')\n",
    "start_time = time.time()\n",
    "pipeline = Pipeline()\n",
    "end_time = time.time()\n",
    "print('Pipeline created in: {} seconds\\n'.format(end_time-start_time))"
   ]
  },
  {
   "cell_type": "markdown",
   "metadata": {},
   "source": [
    "### 3. Predictions"
   ]
  },
  {
   "cell_type": "code",
   "execution_count": 10,
   "metadata": {
    "scrolled": true
   },
   "outputs": [
    {
     "name": "stdout",
     "output_type": "stream",
     "text": [
      "Performing predictions on: dev/mercosur/rainy/rainy_1.jpg\n",
      "Total prediction time: 5.706228256225586 seconds\n",
      "Printing outputs and text predictions...\n",
      "Predictions: [['aa', '388', 'jg']]\n",
      "Performing predictions on: dev/mercosur/rainy/rainy_10.jpg\n",
      "Total prediction time: 0.6102359294891357 seconds\n",
      "Printing outputs and text predictions...\n",
      "Predictions: [['']]\n",
      "Performing predictions on: dev/mercosur/rainy/rainy_11.jpg\n",
      "Total prediction time: 0.5539572238922119 seconds\n",
      "Printing outputs and text predictions...\n",
      "Predictions: [['']]\n",
      "Performing predictions on: dev/mercosur/rainy/rainy_12.jpg\n",
      "Total prediction time: 3.938347339630127 seconds\n",
      "Printing outputs and text predictions...\n",
      "Predictions: [['ad', '812', 'mv']]\n",
      "Performing predictions on: dev/mercosur/rainy/rainy_13.jpg\n",
      "Total prediction time: 1.2679047584533691 seconds\n",
      "Printing outputs and text predictions...\n",
      "Predictions: [['']]\n",
      "Performing predictions on: dev/mercosur/rainy/rainy_14.jpg\n",
      "Total prediction time: 1.577779769897461 seconds\n",
      "Printing outputs and text predictions...\n",
      "Predictions: [['ac', '371', 'le']]\n",
      "Performing predictions on: dev/mercosur/rainy/rainy_15.jpg\n",
      "Total prediction time: 0.5970666408538818 seconds\n",
      "Printing outputs and text predictions...\n",
      "Predictions: [['']]\n",
      "Performing predictions on: dev/mercosur/rainy/rainy_16.jpg\n",
      "Total prediction time: 0.5799856185913086 seconds\n",
      "Printing outputs and text predictions...\n",
      "Predictions: [['']]\n",
      "Performing predictions on: dev/mercosur/rainy/rainy_17.jpg\n",
      "Total prediction time: 2.667436361312866 seconds\n",
      "Printing outputs and text predictions...\n",
      "Predictions: [['aa', '624', 'vj']]\n",
      "Performing predictions on: dev/mercosur/rainy/rainy_18.jpg\n",
      "Total prediction time: 2.6024258136749268 seconds\n",
      "Printing outputs and text predictions...\n",
      "Predictions: [['aa', '624', 'vj']]\n",
      "Performing predictions on: dev/mercosur/rainy/rainy_19.jpg\n",
      "Total prediction time: 2.133216381072998 seconds\n",
      "Printing outputs and text predictions...\n",
      "Predictions: [['aa', '205', 'nx']]\n",
      "Performing predictions on: dev/mercosur/rainy/rainy_2.jpg\n",
      "Total prediction time: 1.7402746677398682 seconds\n",
      "Printing outputs and text predictions...\n",
      "Predictions: [['aa', 'ooo', 'aa']]\n",
      "Performing predictions on: dev/mercosur/rainy/rainy_20.jpg\n",
      "Total prediction time: 0.9065074920654297 seconds\n",
      "Printing outputs and text predictions...\n",
      "Predictions: [['']]\n",
      "Performing predictions on: dev/mercosur/rainy/rainy_21.jpg\n",
      "Total prediction time: 2.512139320373535 seconds\n",
      "Printing outputs and text predictions...\n",
      "Predictions: [['ab', '372', 'jn']]\n",
      "Performing predictions on: dev/mercosur/rainy/rainy_22.jpg\n",
      "Total prediction time: 3.528151512145996 seconds\n",
      "Printing outputs and text predictions...\n",
      "Predictions: [['53zzey']]\n",
      "Performing predictions on: dev/mercosur/rainy/rainy_23.jpg\n",
      "Total prediction time: 0.22402596473693848 seconds\n",
      "Printing outputs and text predictions...\n",
      "Predictions: [['']]\n",
      "Performing predictions on: dev/mercosur/rainy/rainy_24.jpg\n",
      "Total prediction time: 4.291332960128784 seconds\n",
      "Printing outputs and text predictions...\n",
      "Predictions: [['ab', '901', 'kg']]\n",
      "Performing predictions on: dev/mercosur/rainy/rainy_25.jpg\n",
      "Total prediction time: 2.5941343307495117 seconds\n",
      "Printing outputs and text predictions...\n",
      "Predictions: [['ad', '581', 'gr']]\n",
      "Performing predictions on: dev/mercosur/rainy/rainy_26.jpg\n",
      "Total prediction time: 3.155163288116455 seconds\n",
      "Printing outputs and text predictions...\n",
      "Predictions: [['aazzssm']]\n",
      "Performing predictions on: dev/mercosur/rainy/rainy_27.jpg\n",
      "Total prediction time: 0.5501730442047119 seconds\n",
      "Printing outputs and text predictions...\n",
      "Predictions: [['']]\n",
      "Performing predictions on: dev/mercosur/rainy/rainy_28.jpg\n",
      "Total prediction time: 2.234243631362915 seconds\n",
      "Printing outputs and text predictions...\n",
      "Predictions: [['ad', '550', 'og']]\n",
      "Performing predictions on: dev/mercosur/rainy/rainy_29.jpg\n",
      "Total prediction time: 0.4917941093444824 seconds\n",
      "Printing outputs and text predictions...\n",
      "Predictions: [['']]\n",
      "Performing predictions on: dev/mercosur/rainy/rainy_3.jpg\n",
      "Total prediction time: 0.7306230068206787 seconds\n",
      "Printing outputs and text predictions...\n",
      "Predictions: [['']]\n",
      "Performing predictions on: dev/mercosur/rainy/rainy_30.jpg\n",
      "Total prediction time: 2.4955408573150635 seconds\n",
      "Printing outputs and text predictions...\n",
      "Predictions: [['aa', '615', 'wb']]\n",
      "Performing predictions on: dev/mercosur/rainy/rainy_31.jpg\n",
      "Total prediction time: 2.00488543510437 seconds\n",
      "Printing outputs and text predictions...\n",
      "Predictions: [['ab', '31', 'ku']]\n",
      "Performing predictions on: dev/mercosur/rainy/rainy_32.jpg\n",
      "Total prediction time: 2.0139098167419434 seconds\n",
      "Printing outputs and text predictions...\n",
      "Predictions: [['ab', '556z3']]\n",
      "Performing predictions on: dev/mercosur/rainy/rainy_33.jpg\n",
      "Total prediction time: 1.819211483001709 seconds\n",
      "Printing outputs and text predictions...\n",
      "Predictions: [['sazsi']]\n",
      "Performing predictions on: dev/mercosur/rainy/rainy_34.jpg\n",
      "Total prediction time: 1.8559513092041016 seconds\n",
      "Printing outputs and text predictions...\n",
      "Predictions: [['cc', '010']]\n",
      "Performing predictions on: dev/mercosur/rainy/rainy_35.jpg\n",
      "Total prediction time: 0.5905807018280029 seconds\n",
      "Printing outputs and text predictions...\n",
      "Predictions: [['']]\n",
      "Performing predictions on: dev/mercosur/rainy/rainy_36.jpg\n",
      "Total prediction time: 1.952315330505371 seconds\n",
      "Printing outputs and text predictions...\n",
      "Predictions: [['ad', '126', 'e']]\n",
      "Performing predictions on: dev/mercosur/rainy/rainy_37.jpg\n",
      "Total prediction time: 2.2394278049468994 seconds\n",
      "Printing outputs and text predictions...\n",
      "Predictions: [['ab', '775', 'nq']]\n",
      "Performing predictions on: dev/mercosur/rainy/rainy_38.jpg\n",
      "Total prediction time: 1.7115821838378906 seconds\n",
      "Printing outputs and text predictions...\n",
      "Predictions: [['lad', '288', 'so']]\n",
      "Performing predictions on: dev/mercosur/rainy/rainy_40.jpg\n",
      "Total prediction time: 2.5632317066192627 seconds\n",
      "Printing outputs and text predictions...\n",
      "Predictions: [['ae', '129', 'd']]\n",
      "Performing predictions on: dev/mercosur/rainy/rainy_41.jpg\n",
      "Total prediction time: 1.842966079711914 seconds\n",
      "Printing outputs and text predictions...\n",
      "Predictions: [['ac', 'zns', 'yc']]\n",
      "Performing predictions on: dev/mercosur/rainy/rainy_42.jpg\n",
      "Total prediction time: 0.6166205406188965 seconds\n",
      "Printing outputs and text predictions...\n",
      "Predictions: [['']]\n",
      "Performing predictions on: dev/mercosur/rainy/rainy_43.jpg\n",
      "Total prediction time: 0.6508407592773438 seconds\n",
      "Printing outputs and text predictions...\n",
      "Predictions: [['']]\n",
      "Performing predictions on: dev/mercosur/rainy/rainy_44.jpg\n",
      "Total prediction time: 3.343554973602295 seconds\n",
      "Printing outputs and text predictions...\n",
      "Predictions: [['da', '483', 'sz']]\n",
      "Performing predictions on: dev/mercosur/rainy/rainy_45.jpg\n",
      "Total prediction time: 2.300767421722412 seconds\n",
      "Printing outputs and text predictions...\n",
      "Predictions: [['aa', '071', 'fu']]\n",
      "Performing predictions on: dev/mercosur/rainy/rainy_46.jpg\n",
      "Total prediction time: 3.231410026550293 seconds\n",
      "Printing outputs and text predictions...\n",
      "Predictions: [['aa', 'lllhi']]\n",
      "Performing predictions on: dev/mercosur/rainy/rainy_5.jpg\n",
      "Total prediction time: 5.402828931808472 seconds\n",
      "Printing outputs and text predictions...\n",
      "Predictions: [['cade', 'teleferico', 'otte']]\n",
      "Performing predictions on: dev/mercosur/rainy/rainy_50.jpg\n",
      "Total prediction time: 2.3644797801971436 seconds\n",
      "Printing outputs and text predictions...\n",
      "Predictions: [['ad', '81', 'ok']]\n",
      "Performing predictions on: dev/mercosur/rainy/rainy_6.jpg\n",
      "Total prediction time: 2.3639206886291504 seconds\n",
      "Printing outputs and text predictions...\n",
      "Predictions: [['aa', '778', 'aq']]\n",
      "Performing predictions on: dev/mercosur/rainy/rainy_7.jpg\n",
      "Total prediction time: 0.6122908592224121 seconds\n",
      "Printing outputs and text predictions...\n",
      "Predictions: [['']]\n",
      "Performing predictions on: dev/mercosur/rainy/rainy_8.jpg\n",
      "Total prediction time: 1.908881664276123 seconds\n",
      "Printing outputs and text predictions...\n",
      "Predictions: [['205', 'no']]\n",
      "Performing predictions on: dev/mercosur/rainy/rainy_9.jpg\n",
      "Total prediction time: 2.3035364151000977 seconds\n",
      "Printing outputs and text predictions...\n",
      "Predictions: [['a', '215', 'o']]\n"
     ]
    }
   ],
   "source": [
    "lp_predictions = []\n",
    "for file in files_path:\n",
    "    print('Performing predictions on: {}'.format(file))\n",
    "    start_time = time.time()\n",
    "    lp_boxes, txt_pred = pipeline.image([file], syntax_analyzer=True)\n",
    "    end_time = time.time()\n",
    "    print('Total prediction time: {} seconds'.format(end_time-start_time))\n",
    "    print('Printing outputs and text predictions...')\n",
    "    # # Bounding Boxes\n",
    "    for boxes, txt in zip(lp_boxes, txt_pred):\n",
    "#         output = yolobbox.draw_boxes(cv2.imread(file), boxes, ['licence_plate'])\n",
    "#         plt.imshow(cv2.cvtColor(output, cv2.COLOR_BGR2RGB))\n",
    "#         plt.axis('off')\n",
    "#         plt.show()\n",
    "        print('Predictions: {}'.format(txt))\n",
    "        lp_predictions.append(txt) "
   ]
  },
  {
   "cell_type": "code",
   "execution_count": 11,
   "metadata": {},
   "outputs": [
    {
     "data": {
      "text/plain": [
       "[[['aa', '388', 'jg']],\n",
       " [['']],\n",
       " [['']],\n",
       " [['ad', '812', 'mv']],\n",
       " [['']],\n",
       " [['ac', '371', 'le']],\n",
       " [['']],\n",
       " [['']],\n",
       " [['aa', '624', 'vj']],\n",
       " [['aa', '624', 'vj']],\n",
       " [['aa', '205', 'nx']],\n",
       " [['aa', 'ooo', 'aa']],\n",
       " [['']],\n",
       " [['ab', '372', 'jn']],\n",
       " [['53zzey']],\n",
       " [['']],\n",
       " [['ab', '901', 'kg']],\n",
       " [['ad', '581', 'gr']],\n",
       " [['aazzssm']],\n",
       " [['']],\n",
       " [['ad', '550', 'og']],\n",
       " [['']],\n",
       " [['']],\n",
       " [['aa', '615', 'wb']],\n",
       " [['ab', '31', 'ku']],\n",
       " [['ab', '556z3']],\n",
       " [['sazsi']],\n",
       " [['cc', '010']],\n",
       " [['']],\n",
       " [['ad', '126', 'e']],\n",
       " [['ab', '775', 'nq']],\n",
       " [['lad', '288', 'so']],\n",
       " [['ae', '129', 'd']],\n",
       " [['ac', 'zns', 'yc']],\n",
       " [['']],\n",
       " [['']],\n",
       " [['da', '483', 'sz']],\n",
       " [['aa', '071', 'fu']],\n",
       " [['aa', 'lllhi']],\n",
       " [['cade', 'teleferico', 'otte']],\n",
       " [['ad', '81', 'ok']],\n",
       " [['aa', '778', 'aq']],\n",
       " [['']],\n",
       " [['205', 'no']],\n",
       " [['a', '215', 'o']]]"
      ]
     },
     "execution_count": 11,
     "metadata": {},
     "output_type": "execute_result"
    }
   ],
   "source": [
    "lp_predictions"
   ]
  },
  {
   "cell_type": "code",
   "execution_count": 12,
   "metadata": {},
   "outputs": [],
   "source": [
    "rainy = []\n",
    "for image in lp_predictions:\n",
    "    image_lps = []\n",
    "    for lp in image:\n",
    "        lp_text = ''.join(lp)\n",
    "        image_lps.append(lp_text.upper())\n",
    "    rainy.append(image_lps)"
   ]
  },
  {
   "cell_type": "code",
   "execution_count": 13,
   "metadata": {},
   "outputs": [
    {
     "data": {
      "text/plain": [
       "[['AA388JG'],\n",
       " [''],\n",
       " [''],\n",
       " ['AD812MV'],\n",
       " [''],\n",
       " ['AC371LE'],\n",
       " [''],\n",
       " [''],\n",
       " ['AA624VJ'],\n",
       " ['AA624VJ'],\n",
       " ['AA205NX'],\n",
       " ['AAOOOAA'],\n",
       " [''],\n",
       " ['AB372JN'],\n",
       " ['53ZZEY'],\n",
       " [''],\n",
       " ['AB901KG'],\n",
       " ['AD581GR'],\n",
       " ['AAZZSSM'],\n",
       " [''],\n",
       " ['AD550OG'],\n",
       " [''],\n",
       " [''],\n",
       " ['AA615WB'],\n",
       " ['AB31KU'],\n",
       " ['AB556Z3'],\n",
       " ['SAZSI'],\n",
       " ['CC010'],\n",
       " [''],\n",
       " ['AD126E'],\n",
       " ['AB775NQ'],\n",
       " ['LAD288SO'],\n",
       " ['AE129D'],\n",
       " ['ACZNSYC'],\n",
       " [''],\n",
       " [''],\n",
       " ['DA483SZ'],\n",
       " ['AA071FU'],\n",
       " ['AALLLHI'],\n",
       " ['CADETELEFERICOOTTE'],\n",
       " ['AD81OK'],\n",
       " ['AA778AQ'],\n",
       " [''],\n",
       " ['205NO'],\n",
       " ['A215O']]"
      ]
     },
     "execution_count": 13,
     "metadata": {},
     "output_type": "execute_result"
    }
   ],
   "source": [
    "rainy"
   ]
  },
  {
   "cell_type": "code",
   "execution_count": 15,
   "metadata": {
    "scrolled": true
   },
   "outputs": [],
   "source": [
    "with open('dev/metrics/rainy.data', 'wb') as file:  \n",
    "    pkl.dump(rainy, file)"
   ]
  },
  {
   "cell_type": "markdown",
   "metadata": {},
   "source": [
    "### 4. Get GT"
   ]
  },
  {
   "cell_type": "code",
   "execution_count": 14,
   "metadata": {},
   "outputs": [],
   "source": [
    "gt = []\n",
    "for file in annot_path:\n",
    "    tree = ET.parse(file)\n",
    "    root = tree.getroot()\n",
    "    lp_text = []\n",
    "    for lp in root.iter('object'):\n",
    "        lp_text.append(lp.find('text').text)\n",
    "    gt.append(lp_text)"
   ]
  },
  {
   "cell_type": "code",
   "execution_count": 15,
   "metadata": {},
   "outputs": [
    {
     "data": {
      "text/plain": [
       "[['AA388JG'],\n",
       " ['AA205NO'],\n",
       " ['AD448OB'],\n",
       " ['AD812MV'],\n",
       " ['AD507QJ'],\n",
       " ['AC371LE'],\n",
       " ['AA924TF'],\n",
       " ['AD537EI'],\n",
       " ['AA624VJ'],\n",
       " ['AA624VJ'],\n",
       " ['AA205NX'],\n",
       " ['AA000AA'],\n",
       " ['AA015CR'],\n",
       " ['AB372JN'],\n",
       " ['AD537EY'],\n",
       " ['AA778AN'],\n",
       " ['AB801KG'],\n",
       " ['AD581GR'],\n",
       " ['AA228SM'],\n",
       " ['AA091JH'],\n",
       " ['AD550OG'],\n",
       " ['AC552XB'],\n",
       " ['AA018XI'],\n",
       " ['AA695WB'],\n",
       " ['AB371KU'],\n",
       " ['AB356ZY'],\n",
       " ['AA583SJ'],\n",
       " ['AC630IY'],\n",
       " ['AE197ZL'],\n",
       " ['AD126YE'],\n",
       " ['AB775NQ'],\n",
       " ['AD283SO'],\n",
       " ['AE129DD'],\n",
       " ['AC345XG'],\n",
       " ['AC256OZ'],\n",
       " ['AD277YC'],\n",
       " ['AA483SZ'],\n",
       " ['AA079FU'],\n",
       " ['AA411HJ'],\n",
       " ['AB661LS'],\n",
       " ['AD431QK'],\n",
       " ['AA778AQ', 'AA736KL'],\n",
       " ['AA736KL'],\n",
       " ['AA205NO'],\n",
       " ['AA205NO']]"
      ]
     },
     "execution_count": 15,
     "metadata": {},
     "output_type": "execute_result"
    }
   ],
   "source": [
    "gt"
   ]
  },
  {
   "cell_type": "code",
   "execution_count": 18,
   "metadata": {},
   "outputs": [],
   "source": [
    "with open('dev/metrics/gt.data', 'wb') as file:  \n",
    "    pkl.dump(gt, file)"
   ]
  },
  {
   "cell_type": "markdown",
   "metadata": {},
   "source": [
    "### 5. Metrics (Normal)"
   ]
  },
  {
   "cell_type": "code",
   "execution_count": 16,
   "metadata": {},
   "outputs": [
    {
     "name": "stdout",
     "output_type": "stream",
     "text": [
      "[('AA388JG', 'AA388JG')]\n",
      "[('AA205NO', '')]\n",
      "[('AD448OB', '')]\n",
      "[('AD812MV', 'AD812MV')]\n",
      "[('AD507QJ', '')]\n",
      "[('AC371LE', 'AC371LE')]\n",
      "[('AA924TF', '')]\n",
      "[('AD537EI', '')]\n",
      "[('AA624VJ', 'AA624VJ')]\n",
      "[('AA624VJ', 'AA624VJ')]\n",
      "[('AA205NX', 'AA205NX')]\n",
      "[('AA000AA', 'AAOOOAA')]\n",
      "[('AA015CR', '')]\n",
      "[('AB372JN', 'AB372JN')]\n",
      "[('AD537EY', '53ZZEY')]\n",
      "[('AA778AN', '')]\n",
      "[('AB801KG', 'AB901KG')]\n",
      "[('AD581GR', 'AD581GR')]\n",
      "[('AA228SM', 'AAZZSSM')]\n",
      "[('AA091JH', '')]\n",
      "[('AD550OG', 'AD550OG')]\n",
      "[('AC552XB', '')]\n",
      "[('AA018XI', '')]\n",
      "[('AA695WB', 'AA615WB')]\n",
      "[('AB371KU', 'AB31KU')]\n",
      "[('AB356ZY', 'AB556Z3')]\n",
      "[('AA583SJ', 'SAZSI')]\n",
      "[('AC630IY', 'CC010')]\n",
      "[('AE197ZL', '')]\n",
      "[('AD126YE', 'AD126E')]\n",
      "[('AB775NQ', 'AB775NQ')]\n",
      "[('AD283SO', 'LAD288SO')]\n",
      "[('AE129DD', 'AE129D')]\n",
      "[('AC345XG', 'ACZNSYC')]\n",
      "[('AC256OZ', '')]\n",
      "[('AD277YC', '')]\n",
      "[('AA483SZ', 'DA483SZ')]\n",
      "[('AA079FU', 'AA071FU')]\n",
      "[('AA411HJ', 'AALLLHI')]\n",
      "[('AB661LS', 'CADETELEFERICOOTTE')]\n",
      "[('AD431QK', 'AD81OK')]\n",
      "[('AA778AQ', 'AA778AQ'), ('AA736KL', 'AA778AQ')]\n",
      "[('AA736KL', '')]\n",
      "[('AA205NO', '205NO')]\n",
      "[('AA205NO', 'A215O')]\n",
      "TP: 11.0\n",
      "FP: 20.0\n",
      "FN: 35.0\n",
      "Accuracy: 0.16666666666666666\n",
      "Precision: 0.3548387096774194\n",
      "Recall: 0.2391304347826087\n",
      "\n",
      "\n",
      "LS_FP_FN: 0.3633786848072562\n"
     ]
    }
   ],
   "source": [
    "metrics.evaluate(ground_truth=gt, predictions=rainy)"
   ]
  }
 ],
 "metadata": {
  "kernelspec": {
   "display_name": "Python 3",
   "language": "python",
   "name": "python3"
  },
  "language_info": {
   "codemirror_mode": {
    "name": "ipython",
    "version": 3
   },
   "file_extension": ".py",
   "mimetype": "text/x-python",
   "name": "python",
   "nbconvert_exporter": "python",
   "pygments_lexer": "ipython3",
   "version": "3.7.3"
  }
 },
 "nbformat": 4,
 "nbformat_minor": 2
}
